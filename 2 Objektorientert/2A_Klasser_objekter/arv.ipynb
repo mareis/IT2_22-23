{
 "cells": [
  {
   "cell_type": "code",
   "execution_count": 9,
   "metadata": {},
   "outputs": [
    {
     "name": "stdout",
     "output_type": "stream",
     "text": [
      "50\n",
      "77\n",
      "25\n"
     ]
    }
   ],
   "source": [
    "class Rectangle:\n",
    "    def __init__(self, width, length):\n",
    "        self.width = width\n",
    "        self.length = length\n",
    "\n",
    "    def area(self):\n",
    "        return self.width*self.length\n",
    "    \n",
    "\n",
    "class Square(Rectangle):\n",
    "    def __init__(self, side_length):\n",
    "        super().__init__(side_length, side_length)\n",
    "\n",
    "\n",
    "rect_1 = Rectangle(10, 5)\n",
    "print(rect_1.area())\n",
    "\n",
    "rect_2 = Rectangle(7, 11)\n",
    "print(rect_2.area())\n",
    "\n",
    "squa_1 = Square(5)\n",
    "print(squa_1.area())"
   ]
  },
  {
   "cell_type": "code",
   "execution_count": 10,
   "metadata": {},
   "outputs": [
    {
     "name": "stdout",
     "output_type": "stream",
     "text": [
      "432\n",
      "4950\n"
     ]
    }
   ],
   "source": [
    "class Prism(Rectangle):\n",
    "    def __init__(self, width, length, height):\n",
    "        super().__init__(width, length)\n",
    "        self.height = height\n",
    "    \n",
    "    def volume(self):\n",
    "        return self.height*self.area()\n",
    "    \n",
    "\n",
    "pris_1 = Prism(8, 6, 9)\n",
    "print(pris_1.volume())\n",
    "\n",
    "pris_2 = Prism(rect_1.width, rect_1.length, 99)\n",
    "print(pris_2.volume())\n",
    "\n",
    "\n"
   ]
  },
  {
   "cell_type": "code",
   "execution_count": null,
   "metadata": {},
   "outputs": [],
   "source": []
  }
 ],
 "metadata": {
  "kernelspec": {
   "display_name": "Python 3",
   "language": "python",
   "name": "python3"
  },
  "language_info": {
   "codemirror_mode": {
    "name": "ipython",
    "version": 3
   },
   "file_extension": ".py",
   "mimetype": "text/x-python",
   "name": "python",
   "nbconvert_exporter": "python",
   "pygments_lexer": "ipython3",
   "version": "3.10.6"
  },
  "orig_nbformat": 4,
  "vscode": {
   "interpreter": {
    "hash": "aee8b7b246df8f9039afb4144a1f6fd8d2ca17a180786b69acc140d282b71a49"
   }
  }
 },
 "nbformat": 4,
 "nbformat_minor": 2
}
