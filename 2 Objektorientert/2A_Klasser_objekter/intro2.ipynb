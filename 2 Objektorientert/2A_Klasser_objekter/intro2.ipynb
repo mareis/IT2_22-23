{
 "cells": [
  {
   "cell_type": "code",
   "execution_count": 61,
   "metadata": {},
   "outputs": [],
   "source": [
    "from math import pi\n",
    "\n",
    "class Planet:\n",
    "    def __init__(self, navn, solavstand, radius):\n",
    "        self.navn = navn\n",
    "        self.solavstand = solavstand\n",
    "        self.radius = radius\n",
    "    \n",
    "    def overflate(self):\n",
    "        return 4*pi*self.radius**2\n",
    "\n",
    "    def utskrift(self):\n",
    "        print(\n",
    "            f'{\"Navn:\":>12} {self.navn} \\n'\n",
    "            f'{\"Solavstand:\":>12} {self.solavstand:.2E} m \\n'\n",
    "            f'{\"Radius:\":>12} {self.radius:.2E} m \\n'\n",
    "            f'{\"Overflate:\":>12} {self.overflate():.2E} m^2'\n",
    "        )\n",
    "\n",
    "planeter = []\n",
    "planeter.append(Planet(\"Jupiter\", 778_500_000_000, 69_911_000))\n",
    "planeter.append(Planet(\"Tellus\", 149_600_000_000, 6_371_000))"
   ]
  },
  {
   "cell_type": "code",
   "execution_count": 62,
   "metadata": {},
   "outputs": [
    {
     "name": "stdout",
     "output_type": "stream",
     "text": [
      "       Navn: Jupiter \n",
      " Solavstand: 7.78E+11 m \n",
      "     Radius: 6.99E+07 m \n",
      "  Overflate: 6.14E+16 m^2\n",
      "\n",
      "       Navn: Tellus \n",
      " Solavstand: 1.50E+11 m \n",
      "     Radius: 6.37E+06 m \n",
      "  Overflate: 5.10E+14 m^2\n",
      "\n"
     ]
    }
   ],
   "source": [
    "for planet in planeter:\n",
    "    planet.utskrift()\n",
    "    print(\"\")"
   ]
  },
  {
   "cell_type": "code",
   "execution_count": 59,
   "metadata": {},
   "outputs": [
    {
     "name": "stdout",
     "output_type": "stream",
     "text": [
      "       Navn: Tellus \n",
      " Solavstand: 1.50E+11 m \n",
      "     Radius: 6.37E+06 m  Overflate: 5.10E+14 m^2\n",
      "\n",
      "       Navn: Jupiter \n",
      " Solavstand: 7.78E+11 m \n",
      "     Radius: 6.99E+07 m  Overflate: 6.14E+16 m^2\n",
      "\n"
     ]
    }
   ],
   "source": [
    "sortertRadius = sorted(planeter, key = lambda x: x.radius, reverse=False)\n",
    "for planet in sortertRadius:\n",
    "    planet.utskrift()\n",
    "    print(\"\")"
   ]
  },
  {
   "cell_type": "code",
   "execution_count": null,
   "metadata": {},
   "outputs": [],
   "source": []
  }
 ],
 "metadata": {
  "kernelspec": {
   "display_name": "Python 3.10.6 64-bit",
   "language": "python",
   "name": "python3"
  },
  "language_info": {
   "codemirror_mode": {
    "name": "ipython",
    "version": 3
   },
   "file_extension": ".py",
   "mimetype": "text/x-python",
   "name": "python",
   "nbconvert_exporter": "python",
   "pygments_lexer": "ipython3",
   "version": "3.10.6"
  },
  "orig_nbformat": 4,
  "vscode": {
   "interpreter": {
    "hash": "aee8b7b246df8f9039afb4144a1f6fd8d2ca17a180786b69acc140d282b71a49"
   }
  }
 },
 "nbformat": 4,
 "nbformat_minor": 2
}
