{
 "cells": [
  {
   "cell_type": "code",
   "execution_count": 6,
   "metadata": {},
   "outputs": [
    {
     "name": "stdout",
     "output_type": "stream",
     "text": [
      "Liverpool (7 - 0) Manchester United\n"
     ]
    }
   ],
   "source": [
    "\n",
    "class Team:\n",
    "    def __init__(self, name):\n",
    "        self.name = name\n",
    "        self.score = 0\n",
    "\n",
    "\n",
    "liverpool = Team(\"Liverpool\")\n",
    "manchester_united = Team(\"Manchester United\")\n",
    "\n",
    "class Game:\n",
    "    def __init__(self, home_team, away_team, hg, ag=0):\n",
    "        self.home_team = home_team\n",
    "        self.away_team = away_team\n",
    "        self.home_goal = hg\n",
    "        self.away_goal = ag\n",
    "\n",
    "    def whats_the_results(self):\n",
    "        print(f'{self.home_team.name} ({self.home_goal} - {self.away_goal}) {self.away_team.name}')\n",
    "\n",
    "og = Game(liverpool, manchester_united, 7)\n",
    "\n",
    "og.whats_the_results()\n",
    "\n",
    "\n",
    "\n",
    "\n"
   ]
  },
  {
   "cell_type": "code",
   "execution_count": null,
   "metadata": {},
   "outputs": [],
   "source": []
  }
 ],
 "metadata": {
  "kernelspec": {
   "display_name": "Python 3",
   "language": "python",
   "name": "python3"
  },
  "language_info": {
   "codemirror_mode": {
    "name": "ipython",
    "version": 3
   },
   "file_extension": ".py",
   "mimetype": "text/x-python",
   "name": "python",
   "nbconvert_exporter": "python",
   "pygments_lexer": "ipython3",
   "version": "3.10.6"
  },
  "orig_nbformat": 4,
  "vscode": {
   "interpreter": {
    "hash": "aee8b7b246df8f9039afb4144a1f6fd8d2ca17a180786b69acc140d282b71a49"
   }
  }
 },
 "nbformat": 4,
 "nbformat_minor": 2
}
