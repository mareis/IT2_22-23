{
 "cells": [
  {
   "cell_type": "markdown",
   "id": "2e7c7b48-a9b6-495a-b5e3-40c3decf268e",
   "metadata": {},
   "source": [
    "# Databehandling\n"
   ]
  },
  {
   "cell_type": "markdown",
   "id": "a673042b-26c2-4c6d-b1ea-32ac7ab8b9aa",
   "metadata": {},
   "source": [
    "## F1 drivers"
   ]
  },
  {
   "cell_type": "code",
   "execution_count": null,
   "id": "53b9c3b9-f3fb-400e-9edb-a69d4771b9ed",
   "metadata": {},
   "outputs": [],
   "source": []
  },
  {
   "cell_type": "markdown",
   "id": "f8d8356c-ac2d-41dd-8fe3-bfd097ad4132",
   "metadata": {
    "tags": []
   },
   "source": [
    "### Oppgave 0\n",
    "\n",
    "Presenter antallet som har blitt 'Champion' og antallet som ikke har blitt det."
   ]
  },
  {
   "cell_type": "code",
   "execution_count": null,
   "id": "7972f6e4-09d5-49a8-b171-090bc873f36a",
   "metadata": {},
   "outputs": [],
   "source": []
  },
  {
   "cell_type": "markdown",
   "id": "3fabb776-0507-4524-b2f5-031cd4d45c52",
   "metadata": {},
   "source": [
    "### Oppgave 1\n",
    "\n",
    "Hvem har flest raskeste runder og hvor mange?"
   ]
  },
  {
   "cell_type": "code",
   "execution_count": null,
   "id": "b78436a6-8739-4bdf-bd1b-7b95bd3c9e4a",
   "metadata": {},
   "outputs": [],
   "source": []
  },
  {
   "cell_type": "markdown",
   "id": "523de12f-9950-4c92-af20-69ca5cb542e8",
   "metadata": {},
   "source": [
    "### Oppgave 2\n",
    "\n",
    "Presenterer de fem som har vunnet flest ganger og hvor mange ganger de har vunnet"
   ]
  },
  {
   "cell_type": "code",
   "execution_count": null,
   "id": "b462e029-2fcb-4aaf-b57a-5d4d1deb1d85",
   "metadata": {},
   "outputs": [],
   "source": []
  },
  {
   "cell_type": "markdown",
   "id": "c10e6845-b7d3-417b-8119-5622f9aab05b",
   "metadata": {},
   "source": [
    "### Oppgave 3\n",
    "\n",
    "Lag et passende diagram som viser de 20 som har vunnet \"serien\" (er Champion) og antall seiere."
   ]
  },
  {
   "cell_type": "code",
   "execution_count": null,
   "id": "8783eb6a-2ef7-4694-9656-e6857c9d6907",
   "metadata": {},
   "outputs": [],
   "source": []
  },
  {
   "cell_type": "markdown",
   "id": "06534dcf-b64a-4292-a20a-148a2be0deef",
   "metadata": {},
   "source": [
    "### Oppgave 4"
   ]
  },
  {
   "cell_type": "markdown",
   "id": "31cd978e-6847-4cb6-ad0b-c6f07753284c",
   "metadata": {},
   "source": [
    "Hvem ble 'Champion' i 1983?  "
   ]
  },
  {
   "cell_type": "code",
   "execution_count": null,
   "id": "6037e43c-26c5-47f4-8c36-91e72e0b7a72",
   "metadata": {},
   "outputs": [],
   "source": []
  }
 ],
 "metadata": {
  "kernelspec": {
   "display_name": "Python 3 (ipykernel)",
   "language": "python",
   "name": "python3"
  },
  "language_info": {
   "codemirror_mode": {
    "name": "ipython",
    "version": 3
   },
   "file_extension": ".py",
   "mimetype": "text/x-python",
   "name": "python",
   "nbconvert_exporter": "python",
   "pygments_lexer": "ipython3",
   "version": "3.8.13"
  }
 },
 "nbformat": 4,
 "nbformat_minor": 5
}
