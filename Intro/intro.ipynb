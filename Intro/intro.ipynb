{
 "cells": [
  {
   "cell_type": "markdown",
   "id": "45b61381-ad1b-4d7b-8822-4ff0aec7c966",
   "metadata": {},
   "source": [
    "# Intro til Jupyter Lab\n",
    "\n",
    "- Hurtigtaster\n",
    "- Markdown\n",
    "- Kodeceller"
   ]
  },
  {
   "cell_type": "markdown",
   "id": "f8136d4a-7b80-461d-9065-ee411ba724c1",
   "metadata": {},
   "source": [
    "## Hurtigtaster\n",
    "\n",
    "- a: Ny celle over\n",
    "- b: Ny celle under\n",
    "- dd/x: Slette celle\n",
    "- m: Markdown\n",
    "- y: Code"
   ]
  },
  {
   "cell_type": "markdown",
   "id": "89bf74c7-7824-44a7-9a2c-04b6bcb4c29b",
   "metadata": {},
   "source": [
    "## Markdown\n",
    "\n",
    "https://github.com/adam-p/markdown-here/wiki/Markdown-Cheatsheet\n",
    "\n",
    "__Overskrifter__\n",
    "- h1: #\n",
    "- h2: ##\n",
    "\n",
    "\n"
   ]
  },
  {
   "cell_type": "markdown",
   "id": "1b27f665-af9c-4914-ab5b-bff0ad7e4f58",
   "metadata": {},
   "source": [
    "## Kodesnutter\n",
    "\n",
    "Javascript\n",
    "```javascript\n",
    "for(let i = 0; i<10; i++){\n",
    "    console.log(i)\n",
    "}\n",
    "```\n",
    "\n",
    "Python\n",
    "```python\n",
    "for i in range(10):\n",
    "    print(i)\n",
    "```\n"
   ]
  },
  {
   "cell_type": "markdown",
   "id": "432ad8e0-87cb-4e1d-a8a0-c2192d1200a5",
   "metadata": {},
   "source": [
    "## Matte\n",
    "\n",
    "$$x = \\frac{b\\pm\\sqrt{b^2-4ac}}{2a}$$"
   ]
  },
  {
   "cell_type": "markdown",
   "id": "1062dd69-aa47-453c-9150-02a2f0639732",
   "metadata": {},
   "source": [
    "## Kodeceller\n",
    "\n",
    "### Variabler"
   ]
  },
  {
   "cell_type": "code",
   "execution_count": 2,
   "id": "9064acb3-9123-4f8e-ba6f-eb6b6e33f34d",
   "metadata": {},
   "outputs": [],
   "source": [
    "tall = 10"
   ]
  },
  {
   "cell_type": "markdown",
   "id": "983d4fb0-dd85-4d9d-8206-accab96c4dfa",
   "metadata": {},
   "source": [
    "### if-setninger"
   ]
  },
  {
   "cell_type": "code",
   "execution_count": 4,
   "id": "d20f59b3-6074-4202-955d-8fe1b78764ec",
   "metadata": {},
   "outputs": [
    {
     "name": "stdout",
     "output_type": "stream",
     "text": [
      "Tallet er større enn 5\n"
     ]
    }
   ],
   "source": [
    "if tall > 5:\n",
    "    print(\"Tallet er større enn 5\")"
   ]
  },
  {
   "cell_type": "code",
   "execution_count": 5,
   "id": "fe20511b-e62b-4489-80cf-71bbb1035a22",
   "metadata": {},
   "outputs": [
    {
     "name": "stdout",
     "output_type": "stream",
     "text": [
      "Tallet er større enn 5\n"
     ]
    }
   ],
   "source": [
    "if tall < 5:\n",
    "    print(\"Tallet er mindre enn 5\")\n",
    "elif tall == 5:\n",
    "    print(\"Tallet er lik 5\")  \n",
    "else:\n",
    "    print(\"Tallet er større enn 5\")"
   ]
  },
  {
   "cell_type": "markdown",
   "id": "20a17a94-6440-4e44-be8c-5417f77d7aa6",
   "metadata": {},
   "source": [
    "### While-løkker"
   ]
  },
  {
   "cell_type": "code",
   "execution_count": 8,
   "id": "9b111708-87ea-482e-9e70-1a52895833fd",
   "metadata": {},
   "outputs": [
    {
     "name": "stdout",
     "output_type": "stream",
     "text": [
      "0\n",
      "1\n",
      "2\n",
      "3\n",
      "4\n",
      "5\n",
      "6\n",
      "7\n",
      "8\n",
      "9\n"
     ]
    }
   ],
   "source": [
    "x = 0\n",
    "while x<10:\n",
    "    print(x)\n",
    "    x += 1"
   ]
  },
  {
   "cell_type": "markdown",
   "id": "22b4d19d-b8b9-47d8-aa21-f577499ab1e9",
   "metadata": {},
   "source": [
    "### for-løkke"
   ]
  },
  {
   "cell_type": "code",
   "execution_count": 9,
   "id": "43e98230-12b7-4050-958f-1c1956ccfb3f",
   "metadata": {},
   "outputs": [
    {
     "name": "stdout",
     "output_type": "stream",
     "text": [
      "0\n",
      "1\n",
      "2\n",
      "3\n",
      "4\n",
      "5\n",
      "6\n",
      "7\n",
      "8\n",
      "9\n"
     ]
    }
   ],
   "source": [
    "for x in range(10):\n",
    "    print(x)"
   ]
  },
  {
   "cell_type": "markdown",
   "id": "34a9d5d9-e7f9-4079-b5be-d03b994512d4",
   "metadata": {},
   "source": [
    "### Funksjoner"
   ]
  },
  {
   "cell_type": "code",
   "execution_count": 10,
   "id": "17f0bdc0-cba0-4516-8d39-a3d79c0014e0",
   "metadata": {},
   "outputs": [
    {
     "name": "stdout",
     "output_type": "stream",
     "text": [
      "4\n",
      "9\n"
     ]
    }
   ],
   "source": [
    "def f(x):\n",
    "    return x**2\n",
    "\n",
    "print(f(2))\n",
    "print(f(3))"
   ]
  },
  {
   "cell_type": "markdown",
   "id": "b1eddf9f-a369-43bb-8cdf-38913fd53852",
   "metadata": {},
   "source": [
    "### Lister"
   ]
  },
  {
   "cell_type": "code",
   "execution_count": 15,
   "id": "25643ca1-3a41-45a1-b530-094484597a4e",
   "metadata": {},
   "outputs": [
    {
     "name": "stdout",
     "output_type": "stream",
     "text": [
      "['Molde 5 topper', 'Tusenåsrsvarden', 'Storlihytta', 'Tulletur for idioter']\n"
     ]
    }
   ],
   "source": [
    "liste = [\"Molde 5 topper\", \"Tusenåsrsvarden\", \"Storlihytta\", \"Tulletur for idioter\"]\n",
    "print(liste)"
   ]
  },
  {
   "cell_type": "code",
   "execution_count": 16,
   "id": "1ef56d4a-b588-489b-906b-946111c09b5a",
   "metadata": {},
   "outputs": [
    {
     "name": "stdout",
     "output_type": "stream",
     "text": [
      "Den beste turen er Molde 5 topper\n"
     ]
    }
   ],
   "source": [
    "print(f\"Den beste turen er {liste[0]}\")"
   ]
  },
  {
   "cell_type": "code",
   "execution_count": null,
   "id": "e7d0e88f-6850-4ca0-a5a2-1c2aa931b653",
   "metadata": {},
   "outputs": [],
   "source": []
  }
 ],
 "metadata": {
  "kernelspec": {
   "display_name": "Python 3 (ipykernel)",
   "language": "python",
   "name": "python3"
  },
  "language_info": {
   "codemirror_mode": {
    "name": "ipython",
    "version": 3
   },
   "file_extension": ".py",
   "mimetype": "text/x-python",
   "name": "python",
   "nbconvert_exporter": "python",
   "pygments_lexer": "ipython3",
   "version": "3.8.13"
  }
 },
 "nbformat": 4,
 "nbformat_minor": 5
}
