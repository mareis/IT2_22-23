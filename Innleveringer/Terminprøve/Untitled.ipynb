{
 "cells": [
  {
   "cell_type": "markdown",
   "id": "acd31603-3017-4b65-89f5-8eb7c1a0ea82",
   "metadata": {},
   "source": [
    "## Oppgave 11"
   ]
  },
  {
   "cell_type": "code",
   "execution_count": 93,
   "id": "88789713-5508-4994-939b-b5b674bf8fc6",
   "metadata": {},
   "outputs": [
    {
     "data": {
      "text/html": [
       "<div>\n",
       "<style scoped>\n",
       "    .dataframe tbody tr th:only-of-type {\n",
       "        vertical-align: middle;\n",
       "    }\n",
       "\n",
       "    .dataframe tbody tr th {\n",
       "        vertical-align: top;\n",
       "    }\n",
       "\n",
       "    .dataframe thead th {\n",
       "        text-align: right;\n",
       "    }\n",
       "</style>\n",
       "<table border=\"1\" class=\"dataframe\">\n",
       "  <thead>\n",
       "    <tr style=\"text-align: right;\">\n",
       "      <th></th>\n",
       "      <th>dato</th>\n",
       "      <th>type</th>\n",
       "      <th>beløp (kr)</th>\n",
       "      <th>kommentar</th>\n",
       "    </tr>\n",
       "  </thead>\n",
       "  <tbody>\n",
       "    <tr>\n",
       "      <th>0</th>\n",
       "      <td>2023-03-29</td>\n",
       "      <td>mat</td>\n",
       "      <td>854</td>\n",
       "      <td>kiwi</td>\n",
       "    </tr>\n",
       "    <tr>\n",
       "      <th>1</th>\n",
       "      <td>2023-03-28</td>\n",
       "      <td>mat</td>\n",
       "      <td>1044</td>\n",
       "      <td>kiwi</td>\n",
       "    </tr>\n",
       "    <tr>\n",
       "      <th>2</th>\n",
       "      <td>2023-03-25</td>\n",
       "      <td>mat</td>\n",
       "      <td>1206</td>\n",
       "      <td>oda</td>\n",
       "    </tr>\n",
       "    <tr>\n",
       "      <th>3</th>\n",
       "      <td>2023-03-23</td>\n",
       "      <td>mat</td>\n",
       "      <td>954</td>\n",
       "      <td>meny</td>\n",
       "    </tr>\n",
       "    <tr>\n",
       "      <th>4</th>\n",
       "      <td>2023-03-22</td>\n",
       "      <td>mat</td>\n",
       "      <td>367</td>\n",
       "      <td>rema1000</td>\n",
       "    </tr>\n",
       "  </tbody>\n",
       "</table>\n",
       "</div>"
      ],
      "text/plain": [
       "        dato type  beløp (kr) kommentar\n",
       "0 2023-03-29  mat         854      kiwi\n",
       "1 2023-03-28  mat        1044      kiwi\n",
       "2 2023-03-25  mat        1206       oda\n",
       "3 2023-03-23  mat         954      meny\n",
       "4 2023-03-22  mat         367  rema1000"
      ]
     },
     "execution_count": 124,
     "metadata": {},
     "output_type": "execute_result"
    }
   ],
   "source": [
    "import pandas as pd\n",
    "\n",
    "df = pd.read_csv('oppgave11.csv', sep=';')\n",
    "df['dato'] = pd.to_datetime(df['dato'], format='%d.%m.%Y', errors='coerce')\n",
    "df.head()"
   ]
  },
  {
   "cell_type": "markdown",
   "id": "1290adee-3523-453c-bfdc-d0ebefdb5e09",
   "metadata": {},
   "source": [
    "### a)"
   ]
  },
  {
   "cell_type": "code",
   "execution_count": 126,
   "id": "20fff5b1-9df8-4237-a36b-cc2adfd143a1",
   "metadata": {},
   "outputs": [
    {
     "data": {
      "text/html": [
       "<div>\n",
       "<style scoped>\n",
       "    .dataframe tbody tr th:only-of-type {\n",
       "        vertical-align: middle;\n",
       "    }\n",
       "\n",
       "    .dataframe tbody tr th {\n",
       "        vertical-align: top;\n",
       "    }\n",
       "\n",
       "    .dataframe thead th {\n",
       "        text-align: right;\n",
       "    }\n",
       "</style>\n",
       "<table border=\"1\" class=\"dataframe\">\n",
       "  <thead>\n",
       "    <tr style=\"text-align: right;\">\n",
       "      <th></th>\n",
       "      <th>beløp (kr)</th>\n",
       "    </tr>\n",
       "    <tr>\n",
       "      <th>type</th>\n",
       "      <th></th>\n",
       "    </tr>\n",
       "  </thead>\n",
       "  <tbody>\n",
       "    <tr>\n",
       "      <th>mat</th>\n",
       "      <td>28080</td>\n",
       "    </tr>\n",
       "    <tr>\n",
       "      <th>strøm</th>\n",
       "      <td>16520</td>\n",
       "    </tr>\n",
       "  </tbody>\n",
       "</table>\n",
       "</div>"
      ],
      "text/plain": [
       "       beløp (kr)\n",
       "type             \n",
       "mat         28080\n",
       "strøm       16520"
      ]
     },
     "execution_count": 126,
     "metadata": {},
     "output_type": "execute_result"
    }
   ],
   "source": [
    "oversikt = df.groupby(df['type']).sum()\n",
    "oversikt"
   ]
  },
  {
   "cell_type": "markdown",
   "id": "6818cfca-585b-452a-98d8-2135a626cd55",
   "metadata": {},
   "source": [
    "### b)"
   ]
  },
  {
   "cell_type": "code",
   "execution_count": 95,
   "id": "8afc1334-4ed3-4b94-880e-70de11801429",
   "metadata": {},
   "outputs": [
    {
     "data": {
      "text/html": [
       "<div>\n",
       "<style scoped>\n",
       "    .dataframe tbody tr th:only-of-type {\n",
       "        vertical-align: middle;\n",
       "    }\n",
       "\n",
       "    .dataframe tbody tr th {\n",
       "        vertical-align: top;\n",
       "    }\n",
       "\n",
       "    .dataframe thead th {\n",
       "        text-align: right;\n",
       "    }\n",
       "</style>\n",
       "<table border=\"1\" class=\"dataframe\">\n",
       "  <thead>\n",
       "    <tr style=\"text-align: right;\">\n",
       "      <th></th>\n",
       "      <th>beløp (kr)</th>\n",
       "    </tr>\n",
       "    <tr>\n",
       "      <th>dato</th>\n",
       "      <th></th>\n",
       "    </tr>\n",
       "  </thead>\n",
       "  <tbody>\n",
       "    <tr>\n",
       "      <th>February</th>\n",
       "      <td>14571</td>\n",
       "    </tr>\n",
       "    <tr>\n",
       "      <th>January</th>\n",
       "      <td>17001</td>\n",
       "    </tr>\n",
       "    <tr>\n",
       "      <th>March</th>\n",
       "      <td>13028</td>\n",
       "    </tr>\n",
       "  </tbody>\n",
       "</table>\n",
       "</div>"
      ],
      "text/plain": [
       "          beløp (kr)\n",
       "dato                \n",
       "February       14571\n",
       "January        17001\n",
       "March          13028"
      ]
     },
     "execution_count": 95,
     "metadata": {},
     "output_type": "execute_result"
    }
   ],
   "source": [
    "mnd = df.groupby(df['dato'].dt.strftime('%B')).sum()\n",
    "mnd"
   ]
  },
  {
   "cell_type": "code",
   "execution_count": 127,
   "id": "8124ddf1-57a8-4774-b4d0-09d7492fcd95",
   "metadata": {},
   "outputs": [
    {
     "data": {
      "text/html": [
       "<div>\n",
       "<style scoped>\n",
       "    .dataframe tbody tr th:only-of-type {\n",
       "        vertical-align: middle;\n",
       "    }\n",
       "\n",
       "    .dataframe tbody tr th {\n",
       "        vertical-align: top;\n",
       "    }\n",
       "\n",
       "    .dataframe thead th {\n",
       "        text-align: right;\n",
       "    }\n",
       "</style>\n",
       "<table border=\"1\" class=\"dataframe\">\n",
       "  <thead>\n",
       "    <tr style=\"text-align: right;\">\n",
       "      <th></th>\n",
       "      <th>beløp (kr)</th>\n",
       "    </tr>\n",
       "    <tr>\n",
       "      <th>dato</th>\n",
       "      <th></th>\n",
       "    </tr>\n",
       "  </thead>\n",
       "  <tbody>\n",
       "    <tr>\n",
       "      <th>January</th>\n",
       "      <td>17001</td>\n",
       "    </tr>\n",
       "    <tr>\n",
       "      <th>February</th>\n",
       "      <td>14571</td>\n",
       "    </tr>\n",
       "    <tr>\n",
       "      <th>March</th>\n",
       "      <td>13028</td>\n",
       "    </tr>\n",
       "  </tbody>\n",
       "</table>\n",
       "</div>"
      ],
      "text/plain": [
       "          beløp (kr)\n",
       "dato                \n",
       "January        17001\n",
       "February       14571\n",
       "March          13028"
      ]
     },
     "execution_count": 127,
     "metadata": {},
     "output_type": "execute_result"
    }
   ],
   "source": [
    "mnd2 = df.groupby(pd.Grouper(key='dato', freq='1M')).sum()\n",
    "mnd2.index = mnd2.index.strftime('%B') \n",
    "mnd2"
   ]
  },
  {
   "cell_type": "code",
   "execution_count": 129,
   "id": "dfdfcc8d-2482-436b-8d95-3eaff197e168",
   "metadata": {},
   "outputs": [
    {
     "data": {
      "text/plain": [
       "<AxesSubplot:xlabel='dato'>"
      ]
     },
     "execution_count": 129,
     "metadata": {},
     "output_type": "execute_result"
    },
    {
     "data": {
      "image/png": "[encoded data removed]",
      "text/plain": [
       "<Figure size 640x480 with 1 Axes>"
      ]
     },
     "metadata": {},
     "output_type": "display_data"
    }
   ],
   "source": [
    "mnd2.plot.bar()"
   ]
  },
  {
   "cell_type": "code",
   "execution_count": 130,
   "id": "2fe45dcf-4216-4747-b8eb-e1c368b18caf",
   "metadata": {},
   "outputs": [
    {
     "data": {
      "text/plain": [
       "<AxesSubplot:xlabel='dato'>"
      ]
     },
     "execution_count": 130,
     "metadata": {},
     "output_type": "execute_result"
    },
    {
     "data": {
      "image/png": "[encoded data removed]",
      "text/plain": [
       "<Figure size 640x480 with 1 Axes>"
      ]
     },
     "metadata": {},
     "output_type": "display_data"
    }
   ],
   "source": [
    "mnd2.plot()"
   ]
  },
  {
   "cell_type": "code",
   "execution_count": 136,
   "id": "78d0e52e-5682-41a6-8135-7ce60d87bb00",
   "metadata": {},
   "outputs": [],
   "source": [
    "def vis_mnd_oversikt():\n",
    "    mnd2 = df.groupby(pd.Grouper(key='dato', freq='1M')).sum()\n",
    "    mnd2.index = mnd2.index.strftime('%B') \n",
    "    print(mnd2)\n",
    "    mnd2.plot.bar()"
   ]
  },
  {
   "cell_type": "code",
   "execution_count": 138,
   "id": "bd14cd3c-ad9c-4785-837b-2b8d61604fe2",
   "metadata": {},
   "outputs": [
    {
     "name": "stdout",
     "output_type": "stream",
     "text": [
      "       beløp (kr)\n",
      "type             \n",
      "mat      43461.12\n",
      "strøm    16520.00\n",
      "          beløp (kr)\n",
      "dato                \n",
      "January     17001.00\n",
      "February    14571.00\n",
      "March       13028.00\n",
      "April       15381.12\n",
      "       beløp (kr)\n",
      "type             \n",
      "mat      56024.64\n",
      "strøm    16520.00\n",
      "          beløp (kr)\n",
      "dato                \n",
      "January     17001.00\n",
      "February    14571.00\n",
      "March       13028.00\n",
      "April       15381.12\n",
      "May         12563.52\n"
     ]
    },
    {
     "data": {
      "image/png": "[encoded data removed]",
      "text/plain": [
       "<Figure size 640x480 with 1 Axes>"
      ]
     },
     "metadata": {},
     "output_type": "display_data"
    },
    {
     "data": {
      "image/png": "[encoded data removed]",
      "text/plain": [
       "<Figure size 640x480 with 1 Axes>"
      ]
     },
     "metadata": {},
     "output_type": "display_data"
    }
   ],
   "source": [
    "def legg_til_post(dato, typ, beløp, kommentar):\n",
    "    dato = pd.to_datetime(dato, format='%d.%m.%Y', errors='coerce')\n",
    "    df.loc[len(df)] = [dato, typ, beløp, kommentar]\n",
    "    \n",
    "    \n",
    "    print(df.groupby(df['type']).sum())\n",
    "    vis_mnd_oversikt()\n",
    "    \n",
    "legg_til_post('01.04.2023', 'mat', 2563.52, 'kiwi')\n",
    "legg_til_post('01.05.2023', 'mat', 12563.52, 'kiwi')"
   ]
  },
  {
   "cell_type": "markdown",
   "id": "b90bf12d-013b-4de0-bf65-1f08899000f3",
   "metadata": {},
   "source": [
    "## Oppgave 12"
   ]
  },
  {
   "cell_type": "code",
   "execution_count": 145,
   "id": "1c41e71b-a2b7-477d-b84a-14a325700519",
   "metadata": {},
   "outputs": [
    {
     "name": "stdout",
     "output_type": "stream",
     "text": [
      "Jeg er singel.\n",
      "Jeg er gift med Angelina Jolie.\n",
      "Beklager Jo By. Jeg er allerede gift med Angelina Jolie.\n",
      "Brad Pitt er allerede gift med Angelina Jolie.\n",
      "Jeg er singel.\n"
     ]
    }
   ],
   "source": [
    "class Person():\n",
    "  \"\"\"\n",
    "  Klasse for å lage person-objekter.\n",
    "\n",
    "  Parametre:\n",
    "  navn (str):      Personens navn\n",
    "  \"\"\"\n",
    "  def __init__(self,navn):\n",
    "    \"\"\"\n",
    "    Konstruktør\n",
    "    \"\"\"\n",
    "    self.navn = navn\n",
    "    self.gift = False   # Settes til True når personen gifter seg\n",
    "    self.ektefelle = {} # Kobles til annet objekt når personen gifter seg\n",
    "\n",
    "  def visStatus(self):\n",
    "    if self.gift:\n",
    "      print(f\"Jeg er gift med {self.ektefelle.navn}.\")\n",
    "    else:\n",
    "      print(\"Jeg er singel.\")\n",
    "\n",
    "  def gifteMeg(self,ektefelleObjekt):\n",
    "    if self.gift:\n",
    "      print(f\"Beklager {ektefelleObjekt.navn}. Jeg er allerede gift med {self.ektefelle.navn}.\")\n",
    "    elif ektefelleObjekt.gift:\n",
    "      print(f\"{ektefelleObjekt.navn} er allerede gift med {ektefelleObjekt.ektefelle.navn}.\")\n",
    "    else:\n",
    "      self.ektefelle = ektefelleObjekt\n",
    "      self.gift = True\n",
    "      ektefelleObjekt.gift = True\n",
    "\n",
    "def hovedprogram():\n",
    "  brad = Person(\"Brad Pitt\")\n",
    "  brad.visStatus()    # Jeg er singel.\n",
    "\n",
    "  angie = Person(\"Angelina Jolie\")\n",
    "  brad.gifteMeg(angie)\n",
    "  brad.visStatus()    # Jeg er gift med Angelina Jolie.\n",
    "\n",
    "  jo = Person(\"Jo By\")\n",
    "  brad.gifteMeg(jo)   # Beklager Jo By. Jeg er allerede gift med Angelina Jolie.\n",
    "\n",
    "  jo.gifteMeg(brad)   # Brad Pitt er dessverre allerde gift med Angelina Jolie.\n",
    "  jo.visStatus()      # Jeg er singel.\n",
    "\n",
    "\n",
    "# Funksjonskall\n",
    "hovedprogram()"
   ]
  },
  {
   "cell_type": "code",
   "execution_count": 147,
   "id": "179b6091-2595-43b8-89d5-2b1cedb81007",
   "metadata": {},
   "outputs": [
    {
     "data": {
      "text/plain": [
       "True"
      ]
     },
     "execution_count": 147,
     "metadata": {},
     "output_type": "execute_result"
    }
   ],
   "source": [
    "\"in\" in \"find\""
   ]
  },
  {
   "cell_type": "code",
   "execution_count": null,
   "id": "b9bd7e3f-c336-44c2-a840-9941795f6281",
   "metadata": {},
   "outputs": [],
   "source": []
  }
 ],
 "metadata": {
  "kernelspec": {
   "display_name": "Python 3 (ipykernel)",
   "language": "python",
   "name": "python3"
  },
  "language_info": {
   "codemirror_mode": {
    "name": "ipython",
    "version": 3
   },
   "file_extension": ".py",
   "mimetype": "text/x-python",
   "name": "python",
   "nbconvert_exporter": "python",
   "pygments_lexer": "ipython3",
   "version": "3.8.13"
  }
 },
 "nbformat": 4,
 "nbformat_minor": 5
}
