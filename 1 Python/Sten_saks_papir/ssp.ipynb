{
 "cells": [
  {
   "cell_type": "code",
   "execution_count": 1,
   "metadata": {},
   "outputs": [],
   "source": [
    "import random"
   ]
  },
  {
   "cell_type": "code",
   "execution_count": 11,
   "metadata": {},
   "outputs": [
    {
     "name": "stdout",
     "output_type": "stream",
     "text": [
      "CPU times: user 3 µs, sys: 1 µs, total: 4 µs\n",
      "Wall time: 6.91 µs\n",
      "3\n",
      "din tapet\n"
     ]
    }
   ],
   "source": [
    "%time\n",
    "data = random.randint(1,3)\n",
    "print(data)\n",
    "player = 1\n",
    "if player == data:\n",
    "    print(\"uavgjort\")\n",
    "elif player == 1 and data == 2 or player == 2 and data == 3 or player == 3 and data == 1:\n",
    "        print(\"ditt vatn\")\n",
    "else:\n",
    "        print(\"din tapet\")"
   ]
  },
  {
   "cell_type": "code",
   "execution_count": 80,
   "metadata": {},
   "outputs": [
    {
     "name": "stdout",
     "output_type": "stream",
     "text": [
      "819 ns ± 16.1 ns per loop (mean ± std. dev. of 7 runs, 1,000,000 loops each)\n"
     ]
    }
   ],
   "source": [
    "%%timeit\n",
    "bruker = 2\n",
    "data = random.randint(1, 3)\n",
    "\n",
    "valg = [\"stein\", \"saks\", \"papir\"]\n",
    "seier = [-1, 2]\n",
    "\n",
    "s = bruker - data\n",
    "\n",
    "\n",
    "\"Uavgjort\", \"er lik \" if s == 0 else \"Seier\", \"slår\" if s in seier else \"Tap\", \"taper over\"\n",
    "\n"
   ]
  },
  {
   "cell_type": "code",
   "execution_count": 14,
   "metadata": {},
   "outputs": [
    {
     "name": "stdout",
     "output_type": "stream",
     "text": [
      "CPU times: user 2 µs, sys: 0 ns, total: 2 µs\n",
      "Wall time: 5.01 µs\n",
      "You choose paper and computer choose paper\n",
      "Draw!\n"
     ]
    }
   ],
   "source": [
    "%time\n",
    "def rockpaperscissors(p1, p2):\n",
    "    ending = [\"Draw!\", \"You win\", \"Computer wins\"]\n",
    "    options = [\"rock\", \"paper\", \"scissors\"]\n",
    "    print(f\"You choose {options[p1]} and computer choose {options[p2]}\")\n",
    "    return ending[p1-p2]\n",
    "print(rockpaperscissors(2 -1,random.randint(1, 3) - 1))"
   ]
  },
  {
   "cell_type": "code",
   "execution_count": 20,
   "metadata": {},
   "outputs": [
    {
     "name": "stdout",
     "output_type": "stream",
     "text": [
      "CPU times: user 2 µs, sys: 0 ns, total: 2 µs\n",
      "Wall time: 4.05 µs\n",
      " Uavgjort! du tok Stein og maskinen tok Stein\n"
     ]
    }
   ],
   "source": [
    "%time\n",
    "motstander = [\"Stein\", \"Saks\", \"Papir\"]\n",
    "nummer = random.choice(motstander)\n",
    "ssp = \"Stein\"\n",
    "if ssp == \"Stein\" and nummer == \"Saks\" or ssp == \"Saks\" and nummer == \"Papir\" or ssp == \"Papir\" and nummer == \"Stein\": \n",
    "    print(f\"Gratulerer! du tok {ssp} og vant over {nummer}\")\n",
    "elif ssp == \"Stein\" and nummer == \"Stein\" or ssp == \"Saks\" and nummer == \"Saks\" or ssp == \"Papir\" and nummer ==\"Papir\":\n",
    "    print(f\" Uavgjort! du tok {ssp} og maskinen tok {nummer}\")\n",
    "else:\n",
    "    print(f\"Du tok {ssp} og tapte over {nummer}\")"
   ]
  },
  {
   "cell_type": "code",
   "execution_count": 26,
   "metadata": {},
   "outputs": [
    {
     "name": "stdout",
     "output_type": "stream",
     "text": [
      "CPU times: user 2 µs, sys: 0 ns, total: 2 µs\n",
      "Wall time: 4.05 µs\n",
      "Du valgte stein\n",
      "Datamaskinen valgte saks\n",
      "Du vant!\n"
     ]
    }
   ],
   "source": [
    "%time\n",
    "ditt_valg = \"stein\"\n",
    "print (f'Du valgte {ditt_valg}')\n",
    "datamaskin = random.randint (1,3) \n",
    "if datamaskin == 1:\n",
    "    datamaskin =\"stein\"\n",
    "elif datamaskin == 2:\n",
    "    datamaskin = \"saks\"\n",
    "elif datamaskin ==3:\n",
    "    datamaskin = \"papir\"\n",
    "print(f'Datamaskinen valgte {datamaskin}')\n",
    "if ditt_valg == \"stein\" and datamaskin == \"saks\":\n",
    "    print(\"Du vant!\")\n",
    "elif ditt_valg == \"stein\" and datamaskin == \"papir\":\n",
    "    print(\"Datamaskinen vant.\")\n",
    "elif ditt_valg == \"saks\" and datamaskin == \"stein\":\n",
    "    print(\"Datamaskinen vant.\")\n",
    "elif ditt_valg == \"saks\" and datamaskin == \"papir\":\n",
    "    print(\"Du vant!\")\n",
    "elif ditt_valg == \"papir\" and datamaskin == \"stein\":\n",
    "    print(\"Du vant!\")\n",
    "elif ditt_valg == \"papir\" and datamaskin == \"saks\":\n",
    "    print(\"Datamaskinen vant.\")\n",
    "else: print(\"Dere fikk uavgjort.\")"
   ]
  },
  {
   "cell_type": "code",
   "execution_count": 35,
   "metadata": {},
   "outputs": [
    {
     "name": "stdout",
     "output_type": "stream",
     "text": [
      "CPU times: user 2 µs, sys: 1e+03 ns, total: 3 µs\n",
      "Wall time: 5.01 µs\n",
      "Datamaskin vant\n",
      "Du valgte: saks\n",
      "Gud valgte:stein\n"
     ]
    }
   ],
   "source": [
    "%time\n",
    "mulige_valg = [\"saks\", \"stein\", \"papir\"]\n",
    "datamaskin = random.choice(mulige_valg)\n",
    "spiller = \"saks\"\n",
    "\n",
    "if spiller == datamaskin:\n",
    "    print(\"Det ble uavgjort\")\n",
    "\n",
    "if spiller > datamaskin:\n",
    "    print(\"Spiller vant\")\n",
    "    \n",
    "if spiller < datamaskin:\n",
    "    print(\"Datamaskin vant\")\n",
    "print(f\"Du valgte: {spiller}\")\n",
    "print(f\"Gud valgte:{datamaskin}\")"
   ]
  },
  {
   "cell_type": "code",
   "execution_count": 79,
   "metadata": {},
   "outputs": [
    {
     "name": "stdout",
     "output_type": "stream",
     "text": [
      "729 ns ± 18.6 ns per loop (mean ± std. dev. of 7 runs, 1,000,000 loops each)\n"
     ]
    }
   ],
   "source": [
    "%%timeit\n",
    "Du = 1\n",
    "Pc = random.randint(1,3)\n",
    "\"Du tapte\" if Du == 1 and Pc == 3 or Du == 2 and Pc == 1 or Du == 3 and Pc == 2 else \"Du vant\" if Du == 1 and Pc == 2 or Du == 2 and Pc == 3 or Du == 3 and Pc == 1 else \"Uavgjort\" \n",
    "#print(Du)\n",
    "#rint(Pc)"
   ]
  },
  {
   "cell_type": "code",
   "execution_count": 47,
   "metadata": {},
   "outputs": [
    {
     "name": "stdout",
     "output_type": "stream",
     "text": [
      "CPU times: user 2 µs, sys: 1e+03 ns, total: 3 µs\n",
      "Wall time: 5.01 µs\n",
      "Du valgte papir og datamaskinen valgte saks.\n",
      "Datamaskin vant!\n"
     ]
    }
   ],
   "source": [
    "%time\n",
    "def ssp(p1, p2):\n",
    "    hånd = {0:'stein', 1:'papir', 2:'saks'}\n",
    "    print(f'Du valgte {hånd[p1]} og datamaskinen valgte {hånd[p2]}.')\n",
    "    resultat = ['Uavgjort!', 'Du vant!', 'Datamaskin vant!']\n",
    "    print(resultat[p1 - p2])\n",
    "ssp(1,random.randint(0,2))"
   ]
  },
  {
   "cell_type": "code",
   "execution_count": 77,
   "metadata": {},
   "outputs": [
    {
     "name": "stdout",
     "output_type": "stream",
     "text": [
      "694 ns ± 17.1 ns per loop (mean ± std. dev. of 7 runs, 1,000,000 loops each)\n"
     ]
    }
   ],
   "source": [
    "%%timeit\n",
    "motstander = [\"Stein\", \"Saks\", \"Papir\"]\n",
    "nummer = random.choice(motstander)\n",
    "ssp = \"stein\"\n",
    "if ssp == \"Stein\" and nummer == \"Saks\" or ssp == \"Saks\" and nummer == \"Papir\" or ssp == \"Papir\" and nummer == \"Stein\": \n",
    "    ut = f\"{ssp} > {nummer}\"\n",
    "elif ssp == \"Stein\" and nummer == \"Stein\" or ssp == \"Saks\" and nummer == \"Saks\" or ssp == \"Papir\" and nummer ==\"Papir\":\n",
    "    ut = f\"{ssp} = {nummer}\"\n",
    "else:\n",
    "    ut = f\"{ssp} < {nummer}\""
   ]
  },
  {
   "cell_type": "code",
   "execution_count": 56,
   "metadata": {},
   "outputs": [
    {
     "name": "stdout",
     "output_type": "stream",
     "text": [
      "CPU times: user 2 µs, sys: 1 µs, total: 3 µs\n",
      "Wall time: 3.81 µs\n",
      "Du vant med stein over saks!\n"
     ]
    }
   ],
   "source": [
    "%time\n",
    "robot = random.randint(1, 3)\n",
    "deg = 1\n",
    "#int(input(\"stein (1), saks (2) eller papir (3)\"))\n",
    "#print(f\"Du tok {deg} og roboten tok {robot}\")\n",
    "if deg == 1:\n",
    "    if robot == 1:\n",
    "        print(\"Det ble uavgjort (stein og stein)!\")\n",
    "    elif robot == 2:\n",
    "        print(\"Du vant med stein over saks!\")\n",
    "    elif robot == 3:\n",
    "        print(\"Roboten vant med papir over stein\")\n",
    "if deg == 2:\n",
    "    if robot == 1:\n",
    "        print(\"Roboten vant med stein over saks!\")\n",
    "    elif robot == 2:\n",
    "        print(\"Det ble uavgjort (saks og saks)!\")\n",
    "    elif robot == 3:\n",
    "        print(\"Du vant med papir over stein!\")\n",
    "if deg == 3:\n",
    "    if robot == 1:\n",
    "        print(\"Du vant med papir over stein!\")\n",
    "    elif robot == 2:\n",
    "        print(\"Roboten vant med saks over papir!\")\n",
    "    elif robot == 3:\n",
    "        print(\"Det ble uavgjort (papir og papir)!\")"
   ]
  },
  {
   "cell_type": "code",
   "execution_count": 63,
   "metadata": {},
   "outputs": [
    {
     "name": "stdout",
     "output_type": "stream",
     "text": [
      "CPU times: user 2 µs, sys: 1 µs, total: 3 µs\n",
      "Wall time: 4.77 µs\n",
      "You choose paper and computer choose paper\n",
      "Draw!\n"
     ]
    }
   ],
   "source": [
    "%time\n",
    "p1 = 2-1\n",
    "ending = [\"Draw!\", \"You win\", \"Computer wins\"]\n",
    "options = [\"rock\", \"paper\", \"scissors\"]\n",
    "p2 = random.randint(1, 3) -1\n",
    "print(f\"You choose {options[p1]} and computer choose {options[p2]}\")\n",
    "print(ending[p1-p2])"
   ]
  },
  {
   "cell_type": "code",
   "execution_count": 76,
   "metadata": {},
   "outputs": [
    {
     "name": "stdout",
     "output_type": "stream",
     "text": [
      "841 ns ± 20.2 ns per loop (mean ± std. dev. of 7 runs, 1,000,000 loops each)\n"
     ]
    }
   ],
   "source": [
    "%%timeit\n",
    "datamaskin = random.randint(0,2)\n",
    "du = 1\n",
    "hånd = {0:'stein', 1:'papir', 2:'saks'}\n",
    "#print(f'Du valgte {hånd[du]} og datamaskinen valgte {hånd[datamaskin]}.')\n",
    "resultat = ['Uavgjort!', 'Du vant!', 'Datamaskin vant!']\n",
    "ut = resultat[du - datamaskin]"
   ]
  },
  {
   "cell_type": "code",
   "execution_count": 75,
   "metadata": {},
   "outputs": [
    {
     "name": "stdout",
     "output_type": "stream",
     "text": [
      "529 ns ± 11.8 ns per loop (mean ± std. dev. of 7 runs, 1,000,000 loops each)\n"
     ]
    }
   ],
   "source": [
    "%%timeit\n",
    "mulige_valg = [\"saks\", \"stein\", \"papir\"]\n",
    "datamaskin = random.choice(mulige_valg)\n",
    "spiller = \"saks\"\n",
    "\n",
    "if spiller == datamaskin:\n",
    "    ut = \"Det ble uavgjort\"\n",
    "\n",
    "if spiller > datamaskin:\n",
    "    ut = \"Spiller vant\"\n",
    "    \n",
    "    \n",
    "if spiller < datamaskin:\n",
    "    ut = \"Datamaskin vant\"\n",
    "\n",
    "#print(f\"Du valgte: {spiller}. Datamaskinen valgte {datamaskin}\")\n"
   ]
  },
  {
   "cell_type": "code",
   "execution_count": 82,
   "metadata": {},
   "outputs": [
    {
     "name": "stdout",
     "output_type": "stream",
     "text": [
      "734 ns ± 7.9 ns per loop (mean ± std. dev. of 7 runs, 1,000,000 loops each)\n"
     ]
    }
   ],
   "source": [
    "%%timeit\n",
    "p1 = 1\n",
    "ending = [\"Draw!\", \"You win\", \"Computer wins\"]\n",
    "p2 = random.randint(1, 3) -1\n",
    "\n",
    "ut = ending[pi-p2]\n",
    "\n",
    "\n"
   ]
  },
  {
   "cell_type": "code",
   "execution_count": 84,
   "metadata": {},
   "outputs": [
    {
     "name": "stdout",
     "output_type": "stream",
     "text": [
      "Datamaskin vant!\n"
     ]
    }
   ],
   "source": [
    "resultat = ['Uavgjort!', 'Du vant!', 'Datamaskin vant!']\n",
    "print(resultat[int(input(\"1: Stein, 2: Saks, 3: Papir :\")) - random.randint(0,2)])"
   ]
  },
  {
   "cell_type": "code",
   "execution_count": null,
   "metadata": {},
   "outputs": [],
   "source": []
  }
 ],
 "metadata": {
  "kernelspec": {
   "display_name": "Python 3.10.6 64-bit",
   "language": "python",
   "name": "python3"
  },
  "language_info": {
   "codemirror_mode": {
    "name": "ipython",
    "version": 3
   },
   "file_extension": ".py",
   "mimetype": "text/x-python",
   "name": "python",
   "nbconvert_exporter": "python",
   "pygments_lexer": "ipython3",
   "version": "3.10.6"
  },
  "orig_nbformat": 4,
  "vscode": {
   "interpreter": {
    "hash": "aee8b7b246df8f9039afb4144a1f6fd8d2ca17a180786b69acc140d282b71a49"
   }
  }
 },
 "nbformat": 4,
 "nbformat_minor": 2
}
