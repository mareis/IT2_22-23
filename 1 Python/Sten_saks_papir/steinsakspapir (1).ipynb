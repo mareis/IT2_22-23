{
 "cells": [
  {
   "cell_type": "code",
   "execution_count": 18,
   "metadata": {},
   "outputs": [
    {
     "ename": "SyntaxError",
     "evalue": "cannot assign to literal (3632655928.py, line 6)",
     "output_type": "error",
     "traceback": [
      "\u001b[1;36m  Input \u001b[1;32mIn [18]\u001b[1;36m\u001b[0m\n\u001b[1;33m    1 = a\u001b[0m\n\u001b[1;37m    ^\u001b[0m\n\u001b[1;31mSyntaxError\u001b[0m\u001b[1;31m:\u001b[0m cannot assign to literal\n"
     ]
    }
   ],
   "source": [
    "import random \n",
    "\n",
    "\n",
    "spiller = input(\"Du velger: \")\n",
    "datamaskin = random.randint(1,3)\n",
    "\n",
    "if spiller >\n",
    "print(spiller)\n",
    "print(datamaskin)"
   ]
  },
  {
   "cell_type": "code",
   "execution_count": 59,
   "metadata": {},
   "outputs": [
    {
     "name": "stdout",
     "output_type": "stream",
     "text": [
      "Datamaskin vant\n",
      "Du valgte: saks. Datamaskinen valgte stein\n"
     ]
    }
   ],
   "source": [
    "import random\n",
    "\n",
    "\n",
    "mulige_valg = [\"saks\", \"stein\", \"papir\"]\n",
    "datamaskin = random.choice(mulige_valg)\n",
    "spiller = \"saks\"\n",
    "\n",
    "if spiller == datamaskin:\n",
    "    print(\"Det ble uavgjort\")\n",
    "\n",
    "if spiller > datamaskin:\n",
    "    print(\"Spiller vant\")\n",
    "    \n",
    "    \n",
    "if spiller < datamaskin:\n",
    "    print(\"Datamaskin vant\")\n",
    "print(f\"Du valgte: {spiller}. Datamaskinen valgte {datamaskin}\")\n",
    "\n",
    "\n",
    "\n",
    "\n",
    "\n"
   ]
  },
  {
   "cell_type": "code",
   "execution_count": null,
   "metadata": {},
   "outputs": [],
   "source": []
  },
  {
   "cell_type": "code",
   "execution_count": null,
   "metadata": {},
   "outputs": [],
   "source": []
  }
 ],
 "metadata": {
  "kernelspec": {
   "display_name": "Python 3.8.13 ('base')",
   "language": "python",
   "name": "python3"
  },
  "language_info": {
   "codemirror_mode": {
    "name": "ipython",
    "version": 3
   },
   "file_extension": ".py",
   "mimetype": "text/x-python",
   "name": "python",
   "nbconvert_exporter": "python",
   "pygments_lexer": "ipython3",
   "version": "3.8.13"
  },
  "orig_nbformat": 4,
  "vscode": {
   "interpreter": {
    "hash": "adaee9db3864a12b4fac6af94dc7f957c414cb64bbd1a955953ec6d11106d5df"
   }
  }
 },
 "nbformat": 4,
 "nbformat_minor": 2
}
