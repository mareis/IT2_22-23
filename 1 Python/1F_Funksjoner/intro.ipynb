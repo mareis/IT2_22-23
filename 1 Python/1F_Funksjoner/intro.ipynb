{
 "cells": [
  {
   "cell_type": "markdown",
   "metadata": {},
   "source": [
    "# 1F Funksjoner"
   ]
  },
  {
   "cell_type": "code",
   "execution_count": 6,
   "metadata": {},
   "outputs": [],
   "source": [
    "def funksjonens_navn():\n",
    "    return \"En verdi\"\n",
    "\n",
    "def en_annen_funksjon():\n",
    "    a = 1+1\n",
    "    #return None\n",
    "\n",
    "\n"
   ]
  },
  {
   "cell_type": "code",
   "execution_count": 8,
   "metadata": {},
   "outputs": [
    {
     "name": "stdout",
     "output_type": "stream",
     "text": [
      "None\n",
      "En verdi\n",
      "En verdi\n",
      "En verdi\n",
      "En verdi\n",
      "En verdi\n"
     ]
    }
   ],
   "source": [
    "print(en_annen_funksjon())\n",
    "print(funksjonens_navn())\n",
    "\n",
    "print(funksjonens_navn())\n",
    "\n",
    "print(funksjonens_navn())\n",
    "\n",
    "print(funksjonens_navn())\n",
    "\n",
    "print(funksjonens_navn())\n"
   ]
  },
  {
   "cell_type": "code",
   "execution_count": 10,
   "metadata": {},
   "outputs": [
    {
     "name": "stdout",
     "output_type": "stream",
     "text": [
      "Hei, verden!\n",
      "None\n"
     ]
    }
   ],
   "source": [
    "def hei_verden():\n",
    "    print(\"Hei, verden!\")\n",
    "\n",
    "print(hei_verden())"
   ]
  },
  {
   "cell_type": "code",
   "execution_count": 14,
   "metadata": {},
   "outputs": [
    {
     "name": "stdout",
     "output_type": "stream",
     "text": [
      "Hei, verden!\n"
     ]
    }
   ],
   "source": [
    "def hei_verden2():\n",
    "    return \"Hei, verden!\"\n",
    "\n",
    "print(hei_verden2())"
   ]
  },
  {
   "cell_type": "code",
   "execution_count": 27,
   "metadata": {},
   "outputs": [
    {
     "name": "stdout",
     "output_type": "stream",
     "text": [
      "Hallo\n",
      "Hei\n",
      "Hallo\n",
      "God dag\n",
      "Hei\n",
      "God dag\n",
      "Hallo\n",
      "Hei\n",
      "Hallo\n",
      "Hei\n"
     ]
    }
   ],
   "source": [
    "from random import randint\n",
    "\n",
    "def tilfeldig_hilsen():\n",
    "    hilsen = [\"Hei\", \"Hallo\", \"God dag\"]\n",
    "    #print(hilsen[randint(0,len(hilsen)-1)])\n",
    "    return hilsen[randint(0,len(hilsen)-1)]\n",
    "\n",
    "\n",
    "tilfeldig_hilsen()\n",
    "\n",
    "for i in range(10):\n",
    "    print(tilfeldig_hilsen())"
   ]
  },
  {
   "cell_type": "code",
   "execution_count": 34,
   "metadata": {},
   "outputs": [
    {
     "name": "stdout",
     "output_type": "stream",
     "text": [
      "Hei, Dag!\n",
      "Hei, Birk!\n"
     ]
    }
   ],
   "source": [
    "def hilsen_til(navn=\"Dag\"):\n",
    "    return f\"Hei, {navn}!\"\n",
    "\n",
    "print(hilsen_til())\n",
    "print(hilsen_til(\"Birk\"))"
   ]
  },
  {
   "cell_type": "code",
   "execution_count": 35,
   "metadata": {},
   "outputs": [
    {
     "name": "stdout",
     "output_type": "stream",
     "text": [
      "Hei, Iver!\n",
      "Hei, Thomas!\n",
      "Hei, Herman!\n",
      "Hei, Oleander!\n",
      "Hei, Birk!\n"
     ]
    }
   ],
   "source": [
    "navneliste = [\"Iver\", \"Thomas\", \"Herman\", \"Oleander\", \"Birk\"]\n",
    "\n",
    "for navn in navneliste:\n",
    "    print(hilsen_til(navn))"
   ]
  },
  {
   "cell_type": "code",
   "execution_count": 41,
   "metadata": {},
   "outputs": [
    {
     "name": "stdout",
     "output_type": "stream",
     "text": [
      "215918680\n",
      "12195660\n",
      "45082170\n",
      "771486456\n",
      "456292071\n",
      "185247405\n",
      "108135502\n",
      "849896691\n",
      "172245241\n",
      "336990150\n"
     ]
    }
   ],
   "source": [
    "def areal_rektangel(lengde, bredde):\n",
    "    return lengde*bredde\n",
    "\n",
    "areal_rektangel(10, 100)\n",
    "\n",
    "\n",
    "for i in range(10):\n",
    "    print(areal_rektangel(randint(2,1000), randint(1000, 1000000)))\n"
   ]
  },
  {
   "cell_type": "code",
   "execution_count": 44,
   "metadata": {},
   "outputs": [
    {
     "name": "stdout",
     "output_type": "stream",
     "text": [
      "21992120\n"
     ]
    }
   ],
   "source": [
    "areal = 0\n",
    "antall = 0\n",
    "while areal != 666666:\n",
    "    antall += 1\n",
    "    areal = areal_rektangel(randint(1,1000),randint(1, 1000000))\n",
    "\n",
    "print(antall)"
   ]
  },
  {
   "cell_type": "code",
   "execution_count": 64,
   "metadata": {},
   "outputs": [],
   "source": [
    "def minst(liste):\n",
    "    minst = liste[0]\n",
    "    for tall in liste:\n",
    "        if tall < minst:\n",
    "            minst = tall\n",
    "\n",
    "    return minst\n",
    "\n",
    "tallene = [randint(1,100) for x in range(10**7)]\n",
    "#print(tallene)"
   ]
  },
  {
   "cell_type": "code",
   "execution_count": 65,
   "metadata": {},
   "outputs": [
    {
     "name": "stdout",
     "output_type": "stream",
     "text": [
      "CPU times: user 2 µs, sys: 1 µs, total: 3 µs\n",
      "Wall time: 5.01 µs\n"
     ]
    },
    {
     "data": {
      "text/plain": [
       "1"
      ]
     },
     "execution_count": 65,
     "metadata": {},
     "output_type": "execute_result"
    }
   ],
   "source": [
    "%time\n",
    "minst(tallene)"
   ]
  },
  {
   "cell_type": "code",
   "execution_count": 66,
   "metadata": {},
   "outputs": [
    {
     "name": "stdout",
     "output_type": "stream",
     "text": [
      "CPU times: user 1e+03 ns, sys: 0 ns, total: 1e+03 ns\n",
      "Wall time: 5.01 µs\n"
     ]
    },
    {
     "data": {
      "text/plain": [
       "1"
      ]
     },
     "execution_count": 66,
     "metadata": {},
     "output_type": "execute_result"
    }
   ],
   "source": [
    "%time\n",
    "min(tallene)"
   ]
  },
  {
   "cell_type": "code",
   "execution_count": 67,
   "metadata": {},
   "outputs": [
    {
     "name": "stdout",
     "output_type": "stream",
     "text": [
      "CPU times: user 2 µs, sys: 0 ns, total: 2 µs\n",
      "Wall time: 3.81 µs\n"
     ]
    },
    {
     "data": {
      "text/plain": [
       "1"
      ]
     },
     "execution_count": 67,
     "metadata": {},
     "output_type": "execute_result"
    }
   ],
   "source": [
    "%time\n",
    "tallene.sort()\n",
    "tallene[0]"
   ]
  },
  {
   "cell_type": "code",
   "execution_count": 68,
   "metadata": {},
   "outputs": [
    {
     "name": "stdout",
     "output_type": "stream",
     "text": [
      "En gjenstand med massen 50 kg ved høyden 10 m har den potensielle energien 4905.00 J (med g = 9.81).\n",
      "En gjenstand med massen 50 kg ved høyden 10 m har den potensielle energien 810.00 J (med g = 1.62).\n",
      "En gjenstand med massen 50 kg ved høyden 10 m har den potensielle energien 810.00 J (med g = 1.62).\n"
     ]
    }
   ],
   "source": [
    "def potensiellEnergi(m, h, g=9.81):\n",
    "  print(f\"En gjenstand med massen {m} kg ved høyden {h} m har den potensielle energien {m*g*h:.2f} J (med g = {g}).\" )\n",
    "\n",
    "potensiellEnergi(50, 10)\n",
    "\n",
    "potensiellEnergi(50, 10, g=1.62)\n",
    "potensiellEnergi(50, 10, 1.62)"
   ]
  },
  {
   "cell_type": "code",
   "execution_count": 75,
   "metadata": {},
   "outputs": [
    {
     "name": "stdout",
     "output_type": "stream",
     "text": [
      "+--------+\n",
      "|  Mads  |\n",
      "+--------+\n",
      "+----------+\n",
      "|  Herman  |\n",
      "+----------+\n"
     ]
    }
   ],
   "source": [
    "def skilt(navn=\"Mads\"):\n",
    "    b = len(navn)+4\n",
    "    print(f\"+{'-'*b}+\")\n",
    "    print(f\"|{navn:^{b}}|\")\n",
    "    print(f\"+{'-'*b}+\")\n",
    "\n",
    "skilt()\n",
    "\n",
    "skilt(\"Herman\")"
   ]
  },
  {
   "cell_type": "code",
   "execution_count": 134,
   "metadata": {},
   "outputs": [
    {
     "name": "stdout",
     "output_type": "stream",
     "text": [
      " ___  ___\n",
      "/   \\/   \\\n",
      "|  Mads  |\n",
      "\\        /\n",
      " \\      /\n",
      "  \\    /\n",
      "   \\  /\n",
      "    \\/\n"
     ]
    }
   ],
   "source": [
    "\n",
    "navn = \"Mads\"\n",
    "b = len(navn)\n",
    "\n",
    "print(f\" {'_'*(b-1)}  {'_'*(b-1)}\")\n",
    "print(f\"/{' '*(b-1)}\\\\/{' '*(b-1)}\\\\\")\n",
    "print(f\"|{navn:^{b*2}}|\")\n",
    "\n",
    "for n in range(b,0,-1):\n",
    "    print(f\"{' '*(b-n)}\\\\{' '*n*2}/\")\n",
    "\n",
    "print(f\"{' '*b}\\/\")"
   ]
  },
  {
   "cell_type": "markdown",
   "metadata": {},
   "source": [
    "$a_1=1$,  $a_n= 4a_{n-1}+1$"
   ]
  },
  {
   "cell_type": "code",
   "execution_count": 138,
   "metadata": {},
   "outputs": [
    {
     "name": "stdout",
     "output_type": "stream",
     "text": [
      "1\n",
      "5\n",
      "21\n",
      "85\n",
      "341\n",
      "1365\n",
      "5461\n",
      "21845\n",
      "87381\n",
      "349525\n"
     ]
    }
   ],
   "source": [
    "a = 1\n",
    "for n in range(10):\n",
    "    print(a)\n",
    "    a = a*4 + 1"
   ]
  },
  {
   "cell_type": "code",
   "execution_count": 1,
   "metadata": {},
   "outputs": [
    {
     "data": {
      "text/plain": [
       "4"
      ]
     },
     "execution_count": 1,
     "metadata": {},
     "output_type": "execute_result"
    }
   ],
   "source": [
    "import bibliotek\n",
    "\n",
    "bibliotek.sum(1,3)"
   ]
  },
  {
   "cell_type": "code",
   "execution_count": 2,
   "metadata": {},
   "outputs": [
    {
     "data": {
      "text/plain": [
       "10"
      ]
     },
     "execution_count": 2,
     "metadata": {},
     "output_type": "execute_result"
    }
   ],
   "source": [
    "import bibliotek as bt\n",
    "\n",
    "bt.produkt(2,5)"
   ]
  },
  {
   "cell_type": "code",
   "execution_count": 3,
   "metadata": {},
   "outputs": [
    {
     "data": {
      "text/plain": [
       "'simmæH'"
      ]
     },
     "execution_count": 3,
     "metadata": {},
     "output_type": "execute_result"
    }
   ],
   "source": [
    "from bibliotek import reverser, sum\n",
    "\n",
    "reverser(\"Hæmmis\")"
   ]
  },
  {
   "cell_type": "code",
   "execution_count": 4,
   "metadata": {},
   "outputs": [
    {
     "data": {
      "text/plain": [
       "10"
      ]
     },
     "execution_count": 4,
     "metadata": {},
     "output_type": "execute_result"
    }
   ],
   "source": [
    "sum(3,7)"
   ]
  },
  {
   "cell_type": "markdown",
   "metadata": {},
   "source": [
    "## Lokale og globale variabler\n",
    "\n",
    "Varibler utfor og inni funksjoner"
   ]
  },
  {
   "cell_type": "code",
   "execution_count": 3,
   "metadata": {},
   "outputs": [
    {
     "name": "stdout",
     "output_type": "stream",
     "text": [
      "1\n"
     ]
    }
   ],
   "source": [
    "a = 0\n",
    "\n",
    "def variabel():\n",
    "    a = 2\n",
    "\n",
    "\n",
    "a = 1\n",
    "variabel()\n",
    "\n",
    "print(a)"
   ]
  },
  {
   "cell_type": "code",
   "execution_count": null,
   "metadata": {},
   "outputs": [],
   "source": []
  }
 ],
 "metadata": {
  "kernelspec": {
   "display_name": "Python 3.10.6 64-bit",
   "language": "python",
   "name": "python3"
  },
  "language_info": {
   "codemirror_mode": {
    "name": "ipython",
    "version": 3
   },
   "file_extension": ".py",
   "mimetype": "text/x-python",
   "name": "python",
   "nbconvert_exporter": "python",
   "pygments_lexer": "ipython3",
   "version": "3.10.6"
  },
  "orig_nbformat": 4,
  "vscode": {
   "interpreter": {
    "hash": "aee8b7b246df8f9039afb4144a1f6fd8d2ca17a180786b69acc140d282b71a49"
   }
  }
 },
 "nbformat": 4,
 "nbformat_minor": 2
}
