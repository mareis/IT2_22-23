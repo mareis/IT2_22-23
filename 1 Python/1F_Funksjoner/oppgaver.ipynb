{
 "cells": [
  {
   "cell_type": "markdown",
   "metadata": {},
   "source": [
    "## Oppgave 12"
   ]
  },
  {
   "cell_type": "code",
   "execution_count": 2,
   "metadata": {},
   "outputs": [
    {
     "name": "stdout",
     "output_type": "stream",
     "text": [
      "20.0\n",
      "28.0\n",
      "13.5\n",
      "4600.0\n"
     ]
    }
   ],
   "source": [
    "def areal_trekant(g, h):\n",
    "    return g*h/2\n",
    "\n",
    "print(areal_trekant(10, 4))\n",
    "print(areal_trekant(7, 8))\n",
    "print(areal_trekant(9, 3))\n",
    "print(areal_trekant(23, 400))\n"
   ]
  },
  {
   "cell_type": "code",
   "execution_count": null,
   "metadata": {},
   "outputs": [],
   "source": []
  },
  {
   "cell_type": "markdown",
   "metadata": {},
   "source": [
    "## Oppgave 13"
   ]
  },
  {
   "cell_type": "code",
   "execution_count": 7,
   "metadata": {},
   "outputs": [
    {
     "data": {
      "text/plain": [
       "2"
      ]
     },
     "execution_count": 7,
     "metadata": {},
     "output_type": "execute_result"
    }
   ],
   "source": [
    "def ant_tegn(tegn, tekst):\n",
    "    sum = 0\n",
    "    for t in tekst:\n",
    "        if t.lower() == tegn.lower():\n",
    "            sum += 1\n",
    "\n",
    "    return sum\n",
    "\n",
    "ant_tegn(\"A\", \"Gratulerer med dagen!\")"
   ]
  },
  {
   "cell_type": "code",
   "execution_count": 9,
   "metadata": {},
   "outputs": [
    {
     "data": {
      "text/plain": [
       "2"
      ]
     },
     "execution_count": 9,
     "metadata": {},
     "output_type": "execute_result"
    }
   ],
   "source": [
    "def ant_tegn2(tegn, tekst):\n",
    "    return tekst.lower().count(tegn.lower())\n",
    "\n",
    "ant_tegn2(\"A\", \"Gratulerer med dagen!\")"
   ]
  },
  {
   "cell_type": "markdown",
   "metadata": {},
   "source": [
    "## Oppgave 14"
   ]
  },
  {
   "cell_type": "code",
   "execution_count": 19,
   "metadata": {},
   "outputs": [
    {
     "data": {
      "text/plain": [
       "3"
      ]
     },
     "execution_count": 19,
     "metadata": {},
     "output_type": "execute_result"
    }
   ],
   "source": [
    "def ant_ord(tekst):\n",
    "    sum = 0\n",
    "    for t in tekst:\n",
    "        if t == \" \":\n",
    "            sum += 1\n",
    "\n",
    "    return sum + 1\n",
    "\n",
    "ant_ord(\"Gratulerer med dagen!\")"
   ]
  },
  {
   "cell_type": "code",
   "execution_count": 18,
   "metadata": {},
   "outputs": [
    {
     "data": {
      "text/plain": [
       "3"
      ]
     },
     "execution_count": 18,
     "metadata": {},
     "output_type": "execute_result"
    }
   ],
   "source": [
    "def ant_ord2(tekst):\n",
    "    return tekst.count(\" \") + 1\n",
    "\n",
    "ant_ord2(\"Gratulerer med dagen!\")"
   ]
  },
  {
   "cell_type": "markdown",
   "metadata": {},
   "source": [
    "## Oppgave 15"
   ]
  },
  {
   "cell_type": "code",
   "execution_count": 24,
   "metadata": {},
   "outputs": [
    {
     "data": {
      "text/plain": [
       "2"
      ]
     },
     "execution_count": 24,
     "metadata": {},
     "output_type": "execute_result"
    }
   ],
   "source": [
    "def minst(a, b, c):\n",
    "    return min(a,b,c)\n",
    "\n",
    "minst(5,2,3)"
   ]
  },
  {
   "cell_type": "code",
   "execution_count": 25,
   "metadata": {},
   "outputs": [
    {
     "data": {
      "text/plain": [
       "5"
      ]
     },
     "execution_count": 25,
     "metadata": {},
     "output_type": "execute_result"
    }
   ],
   "source": [
    "def størst(a, b, c):\n",
    "    return max(a,b,c)\n",
    "\n",
    "størst(5,2,3)   "
   ]
  },
  {
   "cell_type": "markdown",
   "metadata": {},
   "source": [
    "## Oppgave 16"
   ]
  },
  {
   "cell_type": "code",
   "execution_count": 34,
   "metadata": {},
   "outputs": [
    {
     "data": {
      "text/plain": [
       "True"
      ]
     },
     "execution_count": 34,
     "metadata": {},
     "output_type": "execute_result"
    }
   ],
   "source": [
    "def er_like(a,b,c):\n",
    "    return a == b == c\n",
    "\n",
    "er_like(0,0,0)"
   ]
  },
  {
   "cell_type": "code",
   "execution_count": 36,
   "metadata": {},
   "outputs": [
    {
     "data": {
      "text/plain": [
       "True"
      ]
     },
     "execution_count": 36,
     "metadata": {},
     "output_type": "execute_result"
    }
   ],
   "source": [
    "def er_ulike(a,b,c):\n",
    "    return not a == b == c\n",
    "\n",
    "er_ulike(0,0,1)"
   ]
  },
  {
   "cell_type": "markdown",
   "metadata": {},
   "source": [
    "## Oppgave 17"
   ]
  },
  {
   "cell_type": "code",
   "execution_count": 37,
   "metadata": {},
   "outputs": [
    {
     "data": {
      "text/plain": [
       "[2, 8, 6, 14, 2, 18]"
      ]
     },
     "execution_count": 37,
     "metadata": {},
     "output_type": "execute_result"
    }
   ],
   "source": [
    "def doble_liste(liste):\n",
    "    ny_liste = []\n",
    "    for t in liste:\n",
    "        ny_liste.append(t*2)\n",
    "\n",
    "    return ny_liste\n",
    "\n",
    "doble_liste([1,4,3,7,1,9])"
   ]
  },
  {
   "cell_type": "markdown",
   "metadata": {},
   "source": [
    "## Oppgave 18"
   ]
  },
  {
   "cell_type": "code",
   "execution_count": 44,
   "metadata": {},
   "outputs": [
    {
     "name": "stdout",
     "output_type": "stream",
     "text": [
      "20.0\n",
      "Du skrev inn noe feil\n",
      "Du skrev inn noe feil\n",
      "4600.0\n"
     ]
    }
   ],
   "source": [
    "def areal_trekant(g, h):\n",
    "    try:\n",
    "        if g > 0 and h > 0:\n",
    "            return g*h/2\n",
    "\n",
    "        else:\n",
    "            return \"Du skrev inn noe feil\"\n",
    "\n",
    "    except:\n",
    "        return \"Du skrev inn noe feil\"\n",
    "\n",
    "    \n",
    "\n",
    "print(areal_trekant(10, 4))\n",
    "print(areal_trekant(\"3\", 8))\n",
    "print(areal_trekant(9, -3))\n",
    "print(areal_trekant(23, 400))"
   ]
  },
  {
   "cell_type": "code",
   "execution_count": 52,
   "metadata": {},
   "outputs": [
    {
     "name": "stdout",
     "output_type": "stream",
     "text": [
      "20.0\n",
      "None\n",
      "None\n",
      "4600.0\n"
     ]
    }
   ],
   "source": [
    "\n",
    "def areal_trekant2(g, h):\n",
    "    if  not isinstance(g, str) and not isinstance(h, str):\n",
    "        if g > 0 and h > 0:\n",
    "            return g*h/2\n",
    "\n",
    "\n",
    "print(areal_trekant2(10, 4))\n",
    "print(areal_trekant2(\"3\", 8))\n",
    "print(areal_trekant2(9, -3))\n",
    "print(areal_trekant2(23, 400))\n",
    "\n"
   ]
  },
  {
   "cell_type": "code",
   "execution_count": 48,
   "metadata": {},
   "outputs": [
    {
     "ename": "TypeError",
     "evalue": "type() takes 1 or 3 arguments",
     "output_type": "error",
     "traceback": [
      "\u001b[0;31m---------------------------------------------------------------------------\u001b[0m",
      "\u001b[0;31mTypeError\u001b[0m                                 Traceback (most recent call last)",
      "\u001b[1;32m/Users/madsor/Library/CloudStorage/OneDrive-MøreogRomsdalFylkeskommune/00_MoldeVGS/IT-2/IT2_22-23/1 Python/1F_Funksjoner/oppgaver.ipynb Cell 21\u001b[0m in \u001b[0;36m<cell line: 1>\u001b[0;34m()\u001b[0m\n\u001b[0;32m----> <a href='vscode-notebook-cell:/Users/madsor/Library/CloudStorage/OneDrive-M%C3%B8reogRomsdalFylkeskommune/00_MoldeVGS/IT-2/IT2_22-23/1%20Python/1F_Funksjoner/oppgaver.ipynb#X26sZmlsZQ%3D%3D?line=0'>1</a>\u001b[0m \u001b[39mtype\u001b[39;49m(\u001b[39m\"\u001b[39;49m\u001b[39md\u001b[39;49m\u001b[39m\"\u001b[39;49m, \u001b[39mstr\u001b[39;49m)\n",
      "\u001b[0;31mTypeError\u001b[0m: type() takes 1 or 3 arguments"
     ]
    }
   ],
   "source": [
    "type(\"d\", str) "
   ]
  },
  {
   "cell_type": "code",
   "execution_count": 54,
   "metadata": {},
   "outputs": [
    {
     "data": {
      "text/plain": [
       "'Du skrev noe feil'"
      ]
     },
     "execution_count": 54,
     "metadata": {},
     "output_type": "execute_result"
    }
   ],
   "source": [
    "def arealRektangel(l, b):\n",
    "    return 'Du skrev noe feil' if (type(l)==str or type(b)==str or l <= 0 or b <= 0) else l*b\n",
    "\n",
    "arealRektangel(6, -2)"
   ]
  },
  {
   "cell_type": "code",
   "execution_count": 56,
   "metadata": {},
   "outputs": [
    {
     "data": {
      "text/plain": [
       "'Verdiene som er oppgitt er ikke gyldige'"
      ]
     },
     "execution_count": 56,
     "metadata": {},
     "output_type": "execute_result"
    }
   ],
   "source": [
    "def triangel(l,b):\n",
    "    return ((l*b)/2) if type(l)  != str and type(b) != str and l > 0 and b > 0 else \"Verdiene som er oppgitt er ikke gyldige\"\n",
    "\n",
    "triangel(0,-5)"
   ]
  },
  {
   "cell_type": "code",
   "execution_count": 78,
   "metadata": {},
   "outputs": [
    {
     "data": {
      "text/plain": [
       "102334155"
      ]
     },
     "execution_count": 78,
     "metadata": {},
     "output_type": "execute_result"
    }
   ],
   "source": [
    "def fibo(n):\n",
    "    if n <= 2:\n",
    "        return 1\n",
    "    else:\n",
    "        return fibo(n-1) + fibo(n-2)\n",
    "\n",
    "fibo(40)"
   ]
  },
  {
   "cell_type": "code",
   "execution_count": 86,
   "metadata": {},
   "outputs": [
    {
     "data": {
      "text/plain": [
       "1.0"
      ]
     },
     "execution_count": 86,
     "metadata": {},
     "output_type": "execute_result"
    }
   ],
   "source": [
    "def brøk(teller, nevner):\n",
    "    try:\n",
    "        return teller/nevner\n",
    "\n",
    "    except:\n",
    "        print(\"Du skrev inn noe feil\")\n",
    "\n",
    "brøk(3, 3)"
   ]
  },
  {
   "cell_type": "code",
   "execution_count": 90,
   "metadata": {},
   "outputs": [],
   "source": [
    "def areal_trekant(g, h):\n",
    "    \"\"\"\n",
    "    Bestemmer arealet til en trekant\n",
    "  \n",
    "    Parameter:\n",
    "    g (float): Grunnlinjen til trekanten\n",
    "    h (float): Høyden til trekanten\n",
    "  \n",
    "    Returnerer:\n",
    "    float: Arealet til trekanten\n",
    "    \n",
    "    \"\"\"\n",
    "    try:\n",
    "        if g > 0 and h > 0:\n",
    "            return g*h/2\n",
    "\n",
    "        else:\n",
    "            return \"Du skrev inn noe feil\"\n",
    "\n",
    "    except:\n",
    "        return \"Du skrev inn noe feil\"\n"
   ]
  },
  {
   "cell_type": "code",
   "execution_count": 91,
   "metadata": {},
   "outputs": [
    {
     "name": "stdout",
     "output_type": "stream",
     "text": [
      "Help on function areal_trekant in module __main__:\n",
      "\n",
      "areal_trekant(g, h)\n",
      "    Bestemmer arealet til en trekant\n",
      "    \n",
      "    Parameter:\n",
      "    g (float): Grunnlinjen til trekanten\n",
      "    h (float): Høyden til trekanten\n",
      "    \n",
      "    Returnerer:\n",
      "    float: Arealet til trekanten\n",
      "\n"
     ]
    }
   ],
   "source": [
    "help(areal_trekant)"
   ]
  },
  {
   "cell_type": "code",
   "execution_count": 96,
   "metadata": {},
   "outputs": [
    {
     "name": "stdout",
     "output_type": "stream",
     "text": [
      "\n",
      "    Bestemmer arealet til en trekant\n",
      "  \n",
      "    Parameter:\n",
      "    g (float): Grunnlinjen til trekanten\n",
      "    h (float): Høyden til trekanten\n",
      "  \n",
      "    Returnerer:\n",
      "    float: Arealet til trekanten\n",
      "    \n",
      "    \n"
     ]
    }
   ],
   "source": [
    "print(areal_trekant.__doc__)"
   ]
  },
  {
   "cell_type": "code",
   "execution_count": 92,
   "metadata": {},
   "outputs": [
    {
     "name": "stdout",
     "output_type": "stream",
     "text": [
      "Help on built-in function min in module builtins:\n",
      "\n",
      "min(...)\n",
      "    min(iterable, *[, default=obj, key=func]) -> value\n",
      "    min(arg1, arg2, *args, *[, key=func]) -> value\n",
      "    \n",
      "    With a single iterable argument, return its smallest item. The\n",
      "    default keyword-only argument specifies an object to return if\n",
      "    the provided iterable is empty.\n",
      "    With two or more arguments, return the smallest argument.\n",
      "\n"
     ]
    }
   ],
   "source": [
    "help(min)"
   ]
  },
  {
   "cell_type": "code",
   "execution_count": 94,
   "metadata": {},
   "outputs": [
    {
     "name": "stdout",
     "output_type": "stream",
     "text": [
      "Help on built-in function print in module builtins:\n",
      "\n",
      "print(...)\n",
      "    print(value, ..., sep=' ', end='\\n', file=sys.stdout, flush=False)\n",
      "    \n",
      "    Prints the values to a stream, or to sys.stdout by default.\n",
      "    Optional keyword arguments:\n",
      "    file:  a file-like object (stream); defaults to the current sys.stdout.\n",
      "    sep:   string inserted between values, default a space.\n",
      "    end:   string appended after the last value, default a newline.\n",
      "    flush: whether to forcibly flush the stream.\n",
      "\n"
     ]
    }
   ],
   "source": [
    "help(print)"
   ]
  },
  {
   "cell_type": "code",
   "execution_count": 109,
   "metadata": {},
   "outputs": [],
   "source": [
    "import terninger\n"
   ]
  },
  {
   "cell_type": "code",
   "execution_count": 111,
   "metadata": {},
   "outputs": [
    {
     "name": "stdout",
     "output_type": "stream",
     "text": [
      "Returnerer et tilfeldig heltall i intervallet [1, antallSider], med begge endepunktente inkludert.\n"
     ]
    }
   ],
   "source": [
    "print(terninger.terning.__doc__)"
   ]
  },
  {
   "cell_type": "code",
   "execution_count": 112,
   "metadata": {},
   "outputs": [
    {
     "data": {
      "text/plain": [
       "5"
      ]
     },
     "execution_count": 112,
     "metadata": {},
     "output_type": "execute_result"
    }
   ],
   "source": [
    "terninger.terning(6)"
   ]
  },
  {
   "cell_type": "code",
   "execution_count": null,
   "metadata": {},
   "outputs": [],
   "source": []
  }
 ],
 "metadata": {
  "kernelspec": {
   "display_name": "Python 3.10.6 64-bit",
   "language": "python",
   "name": "python3"
  },
  "language_info": {
   "codemirror_mode": {
    "name": "ipython",
    "version": 3
   },
   "file_extension": ".py",
   "mimetype": "text/x-python",
   "name": "python",
   "nbconvert_exporter": "python",
   "pygments_lexer": "ipython3",
   "version": "3.10.6"
  },
  "orig_nbformat": 4,
  "vscode": {
   "interpreter": {
    "hash": "aee8b7b246df8f9039afb4144a1f6fd8d2ca17a180786b69acc140d282b71a49"
   }
  }
 },
 "nbformat": 4,
 "nbformat_minor": 2
}
