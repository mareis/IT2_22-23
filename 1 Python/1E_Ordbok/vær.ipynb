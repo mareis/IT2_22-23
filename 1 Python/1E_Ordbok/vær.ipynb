{
 "cells": [
  {
   "cell_type": "code",
   "execution_count": 6,
   "metadata": {},
   "outputs": [],
   "source": [
    "værdata = {\n",
    "  \"lat\":59.97,\"lon\":10.78,\"timezone\":\"Europe/Oslo\",\"timezone_offset\":7200,\"daily\": [\n",
    "    { \n",
    "      \"dt\":1649329200,\n",
    "      \"sunrise\":1649305463,\n",
    "      \"sunset\":1649355199,\n",
    "      \"moonrise\":1649311440,\n",
    "      \"moonset\":1649295060,\n",
    "      \"moon_phase\":0.19,\n",
    "      \"temp\":{\"day\":277.51,\"min\":271.29,\"max\":277.51,\"night\":271.8,\"eve\":273.29,\"morn\":271.79},\n",
    "      \"feels_like\":{\"day\":273.59,\"night\":265.92,\"eve\":268.02,\"morn\":269.78},\n",
    "      \"pressure\":956,\n",
    "      \"humidity\":46,\n",
    "      \"dew_point\":267.62,\n",
    "      \"wind_speed\":6.13,\n",
    "      \"wind_deg\":19,\n",
    "      \"wind_gust\":13.63,\n",
    "      \"weather\":[{\"id\":601,\"main\":\"Snow\",\"description\":\"snow\",\"icon\":\"13d\"}],\n",
    "      \"clouds\":100,\"pop\":0.89,\"snow\":1.65,\"uvi\":1.57\n",
    "    },\n",
    "    {\n",
    "      \"dt\":1649415600,\n",
    "      \"sunrise\":1649391683,\n",
    "      \"sunset\":1649441745,\n",
    "      \"moonrise\":1649400060,\n",
    "      \"moonset\":1649385480,\n",
    "      \"moon_phase\":0.22,\n",
    "      \"temp\":{\"day\":274.79,\"min\":270.59,\"max\":275.91,\"night\":271.85,\"eve\":274.38,\"morn\":270.83},\n",
    "      \"feels_like\":{\"day\":269.76,\"night\":268.08,\"eve\":270.43,\"morn\":264.98},\n",
    "      \"pressure\":978,\n",
    "      \"humidity\":47,\n",
    "      \"dew_point\":264.4,\n",
    "      \"wind_speed\":6.47,\n",
    "      \"wind_deg\":17,\n",
    "      \"wind_gust\":13.84,\n",
    "      \"weather\":[{\"id\":601,\"main\":\"Snow\",\"description\":\"snow\",\"icon\":\"13d\"}],\n",
    "      \"clouds\":100,\"pop\":0.93,\"snow\":3.25,\"uvi\":1.52\n",
    "    },\n",
    "    {\n",
    "      \"dt\":1649502000,\n",
    "      \"sunrise\":1649477903,\n",
    "      \"sunset\":1649528291,\n",
    "      \"moonrise\":1649490180,\n",
    "      \"moonset\":1649474580,\n",
    "      \"moon_phase\":0.25,\n",
    "      \"temp\":{\"day\":279.69,\"min\":269.31,\"max\":280.16,\"night\":275.71,\"eve\":278.03,\"morn\":271.25},\n",
    "      \"feels_like\":{\"day\":276.68,\"night\":272.13,\"eve\":275.54,\"morn\":268.85},\n",
    "      \"pressure\":987,\n",
    "      \"humidity\":33,\n",
    "      \"dew_point\":264.45,\n",
    "      \"wind_speed\":4.95,\n",
    "      \"wind_deg\":309,\n",
    "      \"wind_gust\":11.28,\n",
    "      \"weather\":[{\"id\":804,\"main\":\"Clouds\",\"description\":\"overcast clouds\",\"icon\":\"04d\"}],\n",
    "      \"clouds\":99,\"pop\":0.07,\"uvi\":1.89\n",
    "    },\n",
    "    {\n",
    "      \"dt\":1649588400,\n",
    "      \"sunrise\":1649564124,\n",
    "      \"sunset\":1649614838,\n",
    "      \"moonrise\":1649581320,\n",
    "      \"moonset\":1649562480,\n",
    "      \"moon_phase\":0.28,\n",
    "      \"temp\":{\"day\":280.52,\"min\":272.77,\"max\":280.52,\"night\":273.93,\"eve\":275.92,\"morn\":274.61},\n",
    "      \"feels_like\":{\"day\":277.89,\"night\":273.93,\"eve\":274.78,\"morn\":272.43},\n",
    "      \"pressure\":1007,\n",
    "      \"humidity\":29,\n",
    "      \"dew_point\":263.31,\n",
    "      \"wind_speed\":4.52,\n",
    "      \"wind_deg\":315,\n",
    "      \"wind_gust\":12.53,\n",
    "      \"weather\":[{\"id\":800,\"main\":\"Clear\",\"description\":\"clear sky\",\"icon\":\"01d\"}],\n",
    "      \"clouds\":6,\"pop\":0,\"uvi\":2.13\n",
    "    },\n",
    "    {\n",
    "      \"dt\":1649674800,\n",
    "      \"sunrise\":1649650345,\n",
    "      \"sunset\":1649701385,\n",
    "      \"moonrise\":1649673060,\n",
    "      \"moonset\":1649649660,\n",
    "      \"moon_phase\":0.32,\n",
    "      \"temp\":{\"day\":280.61,\"min\":272.4,\"max\":280.61,\"night\":274.01,\"eve\":276.89,\"morn\":274.49},\n",
    "      \"feels_like\":{\"day\":280.61,\"night\":272.1,\"eve\":275.3,\"morn\":273.14},\n",
    "      \"pressure\":1021,\n",
    "      \"humidity\":30,\n",
    "      \"dew_point\":264,\n",
    "      \"wind_speed\":1.78,\n",
    "      \"wind_deg\":359,\n",
    "      \"wind_gust\":2.4,\n",
    "      \"weather\":[{\"id\":800,\"main\":\"Clear\",\"description\":\"clear sky\",\"icon\":\"01d\"}],\n",
    "      \"clouds\":4,\"pop\":0,\"uvi\":2.51\n",
    "    },\n",
    "    {\n",
    "      \"dt\":1649761200,\n",
    "      \"sunrise\":1649736566,\n",
    "      \"sunset\":1649787932,\n",
    "      \"moonrise\":1649764920,\n",
    "      \"moonset\":1649736480,\n",
    "      \"moon_phase\":0.35,\n",
    "      \"temp\":{\"day\":281.89,\"min\":272.85,\"max\":282.59,\"night\":275.98,\"eve\":278.9,\"morn\":274.97},\n",
    "      \"feels_like\":{\"day\":281.49,\"night\":275.98,\"eve\":278.9,\"morn\":274.97},\n",
    "      \"pressure\":1027,\n",
    "      \"humidity\":31,\n",
    "      \"dew_point\":265.49,\n",
    "      \"wind_speed\":1.39,\n",
    "      \"wind_deg\":273,\n",
    "      \"wind_gust\":1.67,\n",
    "      \"weather\":[{\"id\":802,\"main\":\"Clouds\",\"description\":\"scattered clouds\",\"icon\":\"03d\"}],\n",
    "      \"clouds\":41,\"pop\":0,\"uvi\":3\n",
    "    },\n",
    "    {\n",
    "      \"dt\":1649847600,\n",
    "      \"sunrise\":1649822788,\n",
    "      \"sunset\":1649874479,\n",
    "      \"moonrise\":1649856840,\n",
    "      \"moonset\":1649823120,\n",
    "      \"moon_phase\":0.38,\n",
    "      \"temp\":{\"day\":281.97,\"min\":273.81,\"max\":281.97,\"night\":276.99,\"eve\":279.17,\"morn\":275.6},\n",
    "      \"feels_like\":{\"day\":280.48,\"night\":276.99,\"eve\":277.99,\"morn\":275.6},\n",
    "      \"pressure\":1028,\n",
    "      \"humidity\":37,\n",
    "      \"dew_point\":267.68,\n",
    "      \"wind_speed\":2.98,\n",
    "      \"wind_deg\":192,\n",
    "      \"wind_gust\":3.87,\n",
    "      \"weather\":[{\"id\":600,\"main\":\"Snow\",\"description\":\"light snow\",\"icon\":\"13d\"}],\n",
    "      \"clouds\":97,\n",
    "      \"pop\":0.2,\n",
    "      \"snow\":0.19,\n",
    "      \"uvi\":3\n",
    "    },\n",
    "    {\n",
    "      \"dt\":1649934000,\n",
    "      \"sunrise\":1649909011,\n",
    "      \"sunset\":1649961026,\n",
    "      \"moonrise\":1649948700,\n",
    "      \"moonset\":1649909700,\n",
    "      \"moon_phase\":0.41,\n",
    "      \"temp\":{\"day\":283.23,\"min\":276.18,\"max\":283.84,\"night\":276.63,\"eve\":279.32,\"morn\":276.9},\n",
    "      \"feels_like\":{\"day\":281.36,\"night\":276.63,\"eve\":277.59,\"morn\":275.47},\n",
    "      \"pressure\":1025,\n",
    "      \"humidity\":41,\n",
    "      \"dew_point\":270.19,\n",
    "      \"wind_speed\":3.31,\n",
    "      \"wind_deg\":199,\n",
    "      \"wind_gust\":6.27,\n",
    "      \"weather\":[{\"id\":803,\"main\":\"Clouds\",\"description\":\"broken clouds\",\"icon\":\"04d\"}],\n",
    "      \"clouds\":83,\n",
    "      \"pop\":0,\n",
    "      \"uvi\":3\n",
    "    }\n",
    "  ]\n",
    "}"
   ]
  },
  {
   "cell_type": "code",
   "execution_count": 9,
   "metadata": {},
   "outputs": [
    {
     "data": {
      "text/plain": [
       "97"
      ]
     },
     "execution_count": 9,
     "metadata": {},
     "output_type": "execute_result"
    }
   ],
   "source": [
    "værdata['daily'][6]['clouds']"
   ]
  },
  {
   "cell_type": "code",
   "execution_count": 15,
   "metadata": {},
   "outputs": [
    {
     "data": {
      "text/plain": [
       "'13d'"
      ]
     },
     "execution_count": 15,
     "metadata": {},
     "output_type": "execute_result"
    }
   ],
   "source": [
    "værdata['daily'][6]['weather'][0]['icon']"
   ]
  },
  {
   "cell_type": "code",
   "execution_count": 49,
   "metadata": {},
   "outputs": [],
   "source": [
    "from time import time, strftime, ctime, localtime\n",
    "\n"
   ]
  },
  {
   "cell_type": "code",
   "execution_count": 45,
   "metadata": {},
   "outputs": [
    {
     "data": {
      "text/plain": [
       "'Thu Apr  7 13:00:00 2022'"
      ]
     },
     "execution_count": 45,
     "metadata": {},
     "output_type": "execute_result"
    }
   ],
   "source": [
    "tid = værdata['daily'][0]['dt']\n",
    "ctime(tid)\n"
   ]
  },
  {
   "cell_type": "code",
   "execution_count": 46,
   "metadata": {},
   "outputs": [
    {
     "data": {
      "text/plain": [
       "1649329200"
      ]
     },
     "execution_count": 46,
     "metadata": {},
     "output_type": "execute_result"
    }
   ],
   "source": [
    "tid"
   ]
  },
  {
   "cell_type": "code",
   "execution_count": 50,
   "metadata": {},
   "outputs": [
    {
     "ename": "TypeError",
     "evalue": "Tuple or struct_time argument required",
     "output_type": "error",
     "traceback": [
      "\u001b[0;31m---------------------------------------------------------------------------\u001b[0m",
      "\u001b[0;31mTypeError\u001b[0m                                 Traceback (most recent call last)",
      "\u001b[1;32m/Users/madsor/Library/CloudStorage/OneDrive-MøreogRomsdalFylkeskommune/00_MoldeVGS/IT-2/IT2_22-23/1 Python/1E_Ordbok/vær.ipynb Cell 7\u001b[0m in \u001b[0;36m<cell line: 1>\u001b[0;34m()\u001b[0m\n\u001b[0;32m----> <a href='vscode-notebook-cell:/Users/madsor/Library/CloudStorage/OneDrive-M%C3%B8reogRomsdalFylkeskommune/00_MoldeVGS/IT-2/IT2_22-23/1%20Python/1E_Ordbok/v%C3%A6r.ipynb#W6sZmlsZQ%3D%3D?line=0'>1</a>\u001b[0m strftime(\u001b[39m'\u001b[39;49m\u001b[39mY\u001b[39;49m\u001b[39m'\u001b[39;49m, tid)\n",
      "\u001b[0;31mTypeError\u001b[0m: Tuple or struct_time argument required"
     ]
    }
   ],
   "source": [
    "strftime('Y', tid)"
   ]
  },
  {
   "cell_type": "code",
   "execution_count": 51,
   "metadata": {},
   "outputs": [
    {
     "data": {
      "text/plain": [
       "time.struct_time(tm_year=2022, tm_mon=10, tm_mday=3, tm_hour=13, tm_min=31, tm_sec=43, tm_wday=0, tm_yday=276, tm_isdst=1)"
      ]
     },
     "execution_count": 51,
     "metadata": {},
     "output_type": "execute_result"
    }
   ],
   "source": [
    "localtime()"
   ]
  },
  {
   "cell_type": "code",
   "execution_count": 63,
   "metadata": {},
   "outputs": [
    {
     "data": {
      "text/plain": [
       "'07. April 2022'"
      ]
     },
     "execution_count": 63,
     "metadata": {},
     "output_type": "execute_result"
    }
   ],
   "source": [
    "from datetime import datetime\n",
    "\n",
    "tid = værdata['daily'][0]['dt']\n",
    "datetime.fromtimestamp(tid).strftime(\"%d. %B %Y\")"
   ]
  },
  {
   "cell_type": "code",
   "execution_count": 113,
   "metadata": {},
   "outputs": [
    {
     "name": "stdout",
     "output_type": "stream",
     "text": [
      "07. April 2022     Værtype: Snow       Temperatur:  4.5°C      Soloppgang: 06:24\n",
      "08. April 2022     Værtype: Snow       Temperatur:  1.8°C      Soloppgang: 06:21\n",
      "09. April 2022     Værtype: Clouds     Temperatur:  6.7°C      Soloppgang: 06:18\n",
      "10. April 2022     Værtype: Clear      Temperatur:  7.5°C      Soloppgang: 06:15\n",
      "11. April 2022     Værtype: Clear      Temperatur:  7.6°C      Soloppgang: 06:12\n",
      "12. April 2022     Værtype: Clouds     Temperatur:  8.9°C      Soloppgang: 06:09\n",
      "13. April 2022     Værtype: Snow       Temperatur:  9.0°C      Soloppgang: 06:06\n",
      "14. April 2022     Værtype: Clouds     Temperatur: 10.2°C      Soloppgang: 06:03\n"
     ]
    }
   ],
   "source": [
    "from datetime import datetime\n",
    "daglig = værdata['daily']\n",
    "\n",
    "for dag in daglig:\n",
    "    tidsstreng = datetime.fromtimestamp(dag['dt']).strftime(\"%d. %B %Y\")\n",
    "    solopp = datetime.fromtimestamp(dag['sunrise']).strftime(\"%H:%M\")\n",
    "    værtype = dag['weather'][0]['main']\n",
    "    temperatur = dag['temp']['day'] - 273\n",
    "\n",
    "    print(f'{tidsstreng:18} Værtype: {værtype:10} Temperatur:{temperatur:5.1f}°C {\"Soloppgang\":>15}: {solopp}')"
   ]
  },
  {
   "cell_type": "code",
   "execution_count": 119,
   "metadata": {},
   "outputs": [
    {
     "data": {
      "text/plain": [
       "{'t': 3, 'r': 2, 'e': 1, 'i': 1, ' ': 1, 'å': 1, '!': 1}"
      ]
     },
     "execution_count": 119,
     "metadata": {},
     "output_type": "execute_result"
    }
   ],
   "source": [
    "tekst = \"Førti år!\"\n",
    "\n",
    "ordbok = {}\n",
    "\n",
    "for t in tekst:\n",
    "    if t in ordbok:\n",
    "        ordbok[t.lower()] += 1\n",
    "    else:\n",
    "        ordbok[t.lower()] = 1\n",
    "\n",
    "ordbok"
   ]
  },
  {
   "cell_type": "code",
   "execution_count": 120,
   "metadata": {},
   "outputs": [
    {
     "data": {
      "text/plain": [
       "'t'"
      ]
     },
     "execution_count": 120,
     "metadata": {},
     "output_type": "execute_result"
    }
   ],
   "source": [
    "\"T\".lower()"
   ]
  },
  {
   "cell_type": "code",
   "execution_count": null,
   "metadata": {},
   "outputs": [],
   "source": []
  }
 ],
 "metadata": {
  "kernelspec": {
   "display_name": "Python 3.10.6 64-bit",
   "language": "python",
   "name": "python3"
  },
  "language_info": {
   "codemirror_mode": {
    "name": "ipython",
    "version": 3
   },
   "file_extension": ".py",
   "mimetype": "text/x-python",
   "name": "python",
   "nbconvert_exporter": "python",
   "pygments_lexer": "ipython3",
   "version": "3.10.6"
  },
  "orig_nbformat": 4,
  "vscode": {
   "interpreter": {
    "hash": "aee8b7b246df8f9039afb4144a1f6fd8d2ca17a180786b69acc140d282b71a49"
   }
  }
 },
 "nbformat": 4,
 "nbformat_minor": 2
}
