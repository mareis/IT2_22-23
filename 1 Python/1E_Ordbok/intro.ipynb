{
 "cells": [
  {
   "cell_type": "markdown",
   "metadata": {},
   "source": [
    "# 1E Dictionaries"
   ]
  },
  {
   "cell_type": "markdown",
   "metadata": {},
   "source": []
  },
  {
   "cell_type": "code",
   "execution_count": 10,
   "metadata": {},
   "outputs": [
    {
     "name": "stdout",
     "output_type": "stream",
     "text": [
      "Mikael\n",
      "Madsen\n",
      "Mikael Madsen!\n",
      "Mikael Madsen !\n"
     ]
    }
   ],
   "source": [
    "person = {\n",
    "    \"fornavn\": \"Mikael\",\n",
    "    \"etternavn\": \"Madsen\"\n",
    "}\n",
    "\n",
    "print(person[\"fornavn\"])\n",
    "\n",
    "print(person[\"etternavn\"])\n",
    "\n",
    "print(f'{person[\"fornavn\"]} {person[\"etternavn\"]}!')\n",
    "\n",
    "print(person[\"fornavn\"], person[\"etternavn\"],\"!\")"
   ]
  },
  {
   "cell_type": "code",
   "execution_count": 11,
   "metadata": {},
   "outputs": [],
   "source": [
    "karakterer = {\n",
    "    \"norsk\": 3,\n",
    "    \"gym\": 5,\n",
    "    \"matte\": 4\n",
    "}"
   ]
  },
  {
   "cell_type": "code",
   "execution_count": 12,
   "metadata": {},
   "outputs": [
    {
     "data": {
      "text/plain": [
       "{'norsk': 3, 'gym': 5, 'matte': 4}"
      ]
     },
     "execution_count": 12,
     "metadata": {},
     "output_type": "execute_result"
    }
   ],
   "source": [
    "karakterer"
   ]
  },
  {
   "cell_type": "code",
   "execution_count": 13,
   "metadata": {},
   "outputs": [
    {
     "data": {
      "text/plain": [
       "{'norsk': 3, 'gym': 5, 'matte': 5}"
      ]
     },
     "execution_count": 13,
     "metadata": {},
     "output_type": "execute_result"
    }
   ],
   "source": [
    "karakterer[\"matte\"] = 5\n",
    "karakterer"
   ]
  },
  {
   "cell_type": "code",
   "execution_count": 15,
   "metadata": {},
   "outputs": [],
   "source": [
    "karakterer[\"historie\"] = 4"
   ]
  },
  {
   "cell_type": "code",
   "execution_count": 16,
   "metadata": {},
   "outputs": [
    {
     "data": {
      "text/plain": [
       "{'norsk': 3, 'gym': 5, 'matte': 5, 'historie': 4}"
      ]
     },
     "execution_count": 16,
     "metadata": {},
     "output_type": "execute_result"
    }
   ],
   "source": [
    "karakterer"
   ]
  },
  {
   "cell_type": "code",
   "execution_count": 17,
   "metadata": {},
   "outputs": [
    {
     "data": {
      "text/plain": [
       "{'gym': 5, 'matte': 5, 'historie': 4}"
      ]
     },
     "execution_count": 17,
     "metadata": {},
     "output_type": "execute_result"
    }
   ],
   "source": [
    "karakterer.pop(\"norsk\")\n",
    "karakterer"
   ]
  },
  {
   "cell_type": "code",
   "execution_count": 19,
   "metadata": {},
   "outputs": [
    {
     "data": {
      "text/plain": [
       "{'gym': 5, 'matte': 5, 'historie': 4, 'kjemi': 1}"
      ]
     },
     "execution_count": 19,
     "metadata": {},
     "output_type": "execute_result"
    }
   ],
   "source": [
    "karakterer[\"kjemi\"] = 1\n",
    "karakterer"
   ]
  },
  {
   "cell_type": "code",
   "execution_count": 22,
   "metadata": {},
   "outputs": [
    {
     "data": {
      "text/plain": [
       "{'gym': 5, 'matte': 5, 'historie': 4}"
      ]
     },
     "execution_count": 22,
     "metadata": {},
     "output_type": "execute_result"
    }
   ],
   "source": [
    "if \"kemi\" in karakterer:\n",
    "    karakterer.pop(\"kemi\")\n",
    "\n",
    "if \"kjemi\" in karakterer:\n",
    "    karakterer.pop(\"kjemi\")\n",
    "\n",
    "karakterer"
   ]
  },
  {
   "cell_type": "code",
   "execution_count": 24,
   "metadata": {},
   "outputs": [
    {
     "data": {
      "text/plain": [
       "3"
      ]
     },
     "execution_count": 24,
     "metadata": {},
     "output_type": "execute_result"
    }
   ],
   "source": [
    "len(karakterer)"
   ]
  },
  {
   "cell_type": "code",
   "execution_count": 33,
   "metadata": {},
   "outputs": [
    {
     "name": "stdout",
     "output_type": "stream",
     "text": [
      "gym : 5\n",
      "matte : 5\n",
      "historie : 4\n"
     ]
    }
   ],
   "source": [
    "for nøkler in karakterer.keys():\n",
    "    print(nøkler, \":\" , karakterer[nøkler])"
   ]
  },
  {
   "cell_type": "code",
   "execution_count": 35,
   "metadata": {},
   "outputs": [
    {
     "name": "stdout",
     "output_type": "stream",
     "text": [
      "5\n",
      "5\n",
      "4\n"
     ]
    }
   ],
   "source": [
    "for verdi in karakterer.values():\n",
    "    print(verdi)"
   ]
  },
  {
   "cell_type": "code",
   "execution_count": 36,
   "metadata": {},
   "outputs": [
    {
     "name": "stdout",
     "output_type": "stream",
     "text": [
      "gym : 4\n",
      "matte : 4\n",
      "historie : 4\n"
     ]
    }
   ],
   "source": [
    "for nøkkel, vardi in karakterer.items():\n",
    "    print(nøkkel, \":\", verdi)"
   ]
  },
  {
   "cell_type": "code",
   "execution_count": null,
   "metadata": {},
   "outputs": [],
   "source": []
  },
  {
   "cell_type": "code",
   "execution_count": 45,
   "metadata": {},
   "outputs": [
    {
     "data": {
      "text/plain": [
       "{'a': 'c',\n",
       " 'b': 'd',\n",
       " 'c': 'e',\n",
       " 'd': 'f',\n",
       " 'e': 'g',\n",
       " 'f': 'h',\n",
       " 'g': 'i',\n",
       " 'h': 'j',\n",
       " 'i': 'k',\n",
       " 'j': 'l',\n",
       " 'k': 'm',\n",
       " 'l': 'n',\n",
       " 'm': 'o',\n",
       " 'n': 'p',\n",
       " 'o': 'q',\n",
       " 'p': 'r',\n",
       " 'q': 's',\n",
       " 'r': 't',\n",
       " 's': 'u',\n",
       " 't': 'v',\n",
       " 'u': 'w',\n",
       " 'v': 'x',\n",
       " 'w': 'y',\n",
       " 'x': 'z',\n",
       " 'y': 'æ',\n",
       " 'z': 'ø',\n",
       " 'æ': 'å',\n",
       " 'ø': 'a',\n",
       " 'å': 'b'}"
      ]
     },
     "execution_count": 45,
     "metadata": {},
     "output_type": "execute_result"
    }
   ],
   "source": [
    "import string\n",
    "alfabet = string.ascii_lowercase + \"æøå\"\n",
    "\n",
    "kryptering = {}\n",
    "ny = 0\n",
    "\n",
    "for i, bokstav in enumerate(alfabet):\n",
    "    if i > len(alfabet)-3:\n",
    "        kryptering[bokstav] = alfabet[ny]\n",
    "        ny += 1\n",
    "    else:\n",
    "        kryptering[bokstav] = alfabet[i+2]\n",
    "\n",
    "kryptering\n"
   ]
  },
  {
   "cell_type": "code",
   "execution_count": 51,
   "metadata": {},
   "outputs": [
    {
     "name": "stdout",
     "output_type": "stream",
     "text": [
      "1 \n",
      "1 2 \n",
      "1 2 3 \n",
      "1 2 3 4 \n",
      "1 2 3 4 5 \n"
     ]
    }
   ],
   "source": [
    "utskrift = \"\"\n",
    "\n",
    "for i in range(1, int(input(\"ant: \"))+1):\n",
    "    utskrift += str(i) + \" \"\n",
    "    print(utskrift)"
   ]
  },
  {
   "cell_type": "code",
   "execution_count": 61,
   "metadata": {},
   "outputs": [
    {
     "data": {
      "text/plain": [
       "'F'"
      ]
     },
     "execution_count": 61,
     "metadata": {},
     "output_type": "execute_result"
    }
   ],
   "source": [
    "{6:\"E\"}.get(12/1, \"F\")"
   ]
  },
  {
   "cell_type": "code",
   "execution_count": null,
   "metadata": {},
   "outputs": [],
   "source": []
  }
 ],
 "metadata": {
  "kernelspec": {
   "display_name": "Python 3.10.6 64-bit",
   "language": "python",
   "name": "python3"
  },
  "language_info": {
   "codemirror_mode": {
    "name": "ipython",
    "version": 3
   },
   "file_extension": ".py",
   "mimetype": "text/x-python",
   "name": "python",
   "nbconvert_exporter": "python",
   "pygments_lexer": "ipython3",
   "version": "3.10.6"
  },
  "orig_nbformat": 4,
  "vscode": {
   "interpreter": {
    "hash": "aee8b7b246df8f9039afb4144a1f6fd8d2ca17a180786b69acc140d282b71a49"
   }
  }
 },
 "nbformat": 4,
 "nbformat_minor": 2
}
