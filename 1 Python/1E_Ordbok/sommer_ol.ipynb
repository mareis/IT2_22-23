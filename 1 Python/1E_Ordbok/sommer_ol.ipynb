{
 "cells": [
  {
   "cell_type": "code",
   "execution_count": 20,
   "metadata": {},
   "outputs": [],
   "source": [
    "ol = [\n",
    "    {'årstall':2004, 'vinnertider': {\n",
    "        '100 m':10.93,\n",
    "        '200 m':22.06,\n",
    "        '400 m':49.41\n",
    "    }},\n",
    "        {'årstall':2008, 'vinnertider': {\n",
    "        '100 m':10.78,\n",
    "        '200 m':22.06,\n",
    "        '400 m':49.62\n",
    "    }},\n",
    "        {'årstall':2012, 'vinnertider': {\n",
    "        '100 m':10.75,\n",
    "        '200 m':21.88,\n",
    "        '400 m':49.55\n",
    "    }},\n",
    "        {'årstall':2016, 'vinnertider': {\n",
    "        '100 m':10.71,\n",
    "        '200 m':21.78,\n",
    "        '400 m':49.44\n",
    "    }},\n",
    "        {'årstall':2020, 'vinnertider': {\n",
    "        '100 m':10.61,\n",
    "        '200 m':21.53,\n",
    "        '400 m':48.36\n",
    "    }},\n",
    "]"
   ]
  },
  {
   "cell_type": "code",
   "execution_count": 21,
   "metadata": {},
   "outputs": [
    {
     "data": {
      "text/plain": [
       "{'årstall': 2020,\n",
       " 'vinnertider': {'100 m': 10.61, '200 m': 21.53, '400 m': 48.36}}"
      ]
     },
     "execution_count": 21,
     "metadata": {},
     "output_type": "execute_result"
    }
   ],
   "source": [
    "ol[4]"
   ]
  },
  {
   "cell_type": "code",
   "execution_count": 22,
   "metadata": {},
   "outputs": [
    {
     "data": {
      "text/plain": [
       "{'100 m': 10.61, '200 m': 21.53, '400 m': 48.36}"
      ]
     },
     "execution_count": 22,
     "metadata": {},
     "output_type": "execute_result"
    }
   ],
   "source": [
    "ol[4]['vinnertider']"
   ]
  },
  {
   "cell_type": "code",
   "execution_count": 23,
   "metadata": {},
   "outputs": [
    {
     "data": {
      "text/plain": [
       "48.36"
      ]
     },
     "execution_count": 23,
     "metadata": {},
     "output_type": "execute_result"
    }
   ],
   "source": [
    "ol[4]['vinnertider']['400 m']"
   ]
  },
  {
   "cell_type": "code",
   "execution_count": 24,
   "metadata": {},
   "outputs": [
    {
     "name": "stdout",
     "output_type": "stream",
     "text": [
      "{'årstall': 2004, 'vinnertider': {'100 m': 10.93, '200 m': 22.06, '400 m': 49.41}}\n",
      "{'årstall': 2008, 'vinnertider': {'100 m': 10.78, '200 m': 22.06, '400 m': 49.62}}\n",
      "{'årstall': 2012, 'vinnertider': {'100 m': 10.75, '200 m': 21.88, '400 m': 49.55}}\n",
      "{'årstall': 2016, 'vinnertider': {'100 m': 10.71, '200 m': 21.78, '400 m': 49.44}}\n",
      "{'årstall': 2020, 'vinnertider': {'100 m': 10.61, '200 m': 21.53, '400 m': 48.36}}\n"
     ]
    }
   ],
   "source": [
    "for år in ol:\n",
    "    print(år)"
   ]
  },
  {
   "cell_type": "code",
   "execution_count": 25,
   "metadata": {},
   "outputs": [
    {
     "name": "stdout",
     "output_type": "stream",
     "text": [
      "Vinnertider på 100m i OL\n",
      "2004: 10.93\n",
      "2008: 10.78\n",
      "2012: 10.75\n",
      "2016: 10.71\n",
      "2020: 10.61\n"
     ]
    }
   ],
   "source": [
    "print(\"Vinnertider på 100m i OL\")\n",
    "for år in ol:\n",
    "    print(f\"{år['årstall']}: {år['vinnertider']['100 m']}\")"
   ]
  },
  {
   "cell_type": "code",
   "execution_count": 31,
   "metadata": {},
   "outputs": [
    {
     "name": "stdout",
     "output_type": "stream",
     "text": [
      "Den dårligste vinnertiden: 22.06 sekunder.\n",
      "Den beste vinnertiden. 21.53 sekunder.\n"
     ]
    }
   ],
   "source": [
    "\n",
    "dårligst = ol[0]['vinnertider']['200 m']\n",
    "best = ol[0]['vinnertider']['200 m']\n",
    "\n",
    "for år in ol:\n",
    "    tid = år['vinnertider']['200 m']\n",
    "    if dårligst < tid:\n",
    "        dårligst = tid\n",
    "\n",
    "    if best > tid:\n",
    "        best = tid\n",
    "\n",
    "\n",
    "print(f\"Den dårligste vinnertiden: {dårligst} sekunder.\")\n",
    "print(f\"Den beste vinnertiden. {best} sekunder.\")"
   ]
  },
  {
   "cell_type": "code",
   "execution_count": 40,
   "metadata": {},
   "outputs": [
    {
     "data": {
      "text/plain": [
       "10.93"
      ]
     },
     "execution_count": 40,
     "metadata": {},
     "output_type": "execute_result"
    }
   ],
   "source": [
    "ol[0]['vinnertider']['100 m']"
   ]
  },
  {
   "cell_type": "code",
   "execution_count": 32,
   "metadata": {},
   "outputs": [
    {
     "name": "stdout",
     "output_type": "stream",
     "text": [
      "100 m 10.61\n",
      "200 m 21.53\n",
      "400 m 48.36\n"
     ]
    }
   ],
   "source": [
    "for nøkkel, verdi in ol[4]['vinnertider'].items():\n",
    "    print(nøkkel, verdi)"
   ]
  },
  {
   "cell_type": "code",
   "execution_count": 43,
   "metadata": {},
   "outputs": [
    {
     "data": {
      "text/plain": [
       "{'årstall': 2008,\n",
       " 'vinnertider': {'100 m': 10.78, '200 m': 22.06, '400 m': 49.62}}"
      ]
     },
     "execution_count": 43,
     "metadata": {},
     "output_type": "execute_result"
    }
   ],
   "source": [
    "ol[1]"
   ]
  },
  {
   "cell_type": "code",
   "execution_count": null,
   "metadata": {},
   "outputs": [],
   "source": []
  }
 ],
 "metadata": {
  "kernelspec": {
   "display_name": "Python 3.10.6 64-bit",
   "language": "python",
   "name": "python3"
  },
  "language_info": {
   "codemirror_mode": {
    "name": "ipython",
    "version": 3
   },
   "file_extension": ".py",
   "mimetype": "text/x-python",
   "name": "python",
   "nbconvert_exporter": "python",
   "pygments_lexer": "ipython3",
   "version": "3.10.6"
  },
  "orig_nbformat": 4,
  "vscode": {
   "interpreter": {
    "hash": "aee8b7b246df8f9039afb4144a1f6fd8d2ca17a180786b69acc140d282b71a49"
   }
  }
 },
 "nbformat": 4,
 "nbformat_minor": 2
}
